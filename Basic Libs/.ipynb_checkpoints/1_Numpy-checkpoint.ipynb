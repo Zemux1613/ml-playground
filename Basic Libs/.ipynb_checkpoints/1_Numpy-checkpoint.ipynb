{
 "cells": [
  {
   "cell_type": "code",
   "execution_count": 1,
   "id": "33998239-f12b-4b7f-a784-79f37fe02cd6",
   "metadata": {},
   "outputs": [],
   "source": [
    "import numpy as np"
   ]
  },
  {
   "cell_type": "markdown",
   "id": "1cb3ea9d-1d67-496f-b1ea-16e63c2c52f5",
   "metadata": {},
   "source": [
    "# np-array"
   ]
  },
  {
   "cell_type": "code",
   "execution_count": 2,
   "id": "4a45d684-bb28-4e2f-adbb-e4ff526022cd",
   "metadata": {},
   "outputs": [
    {
     "name": "stdout",
     "output_type": "stream",
     "text": [
      "Array a hat Dimension: (8,) und Typ: int64.\n",
      "Array a hat Dimension: (2, 4) und Typ: float64.\n",
      "Array a hat Dimension: (1,) und Typ: <U13.\n"
     ]
    }
   ],
   "source": [
    "a = np.array([1,2,3,4,5,6,7,8])\n",
    "print(f'Array a hat Dimension: {a.shape} und Typ: {a.dtype}.')\n",
    "\n",
    "b = np.array([[1,2,3,4], [5.0,6,7,8]])\n",
    "print(f'Array a hat Dimension: {b.shape} und Typ: {b.dtype}.')\n",
    "\n",
    "# String-Arrays sind auch möglich, aber eher selten nützlich\n",
    "c = np.array(['Hallo KiKurs!'])\n",
    "print(f'Array a hat Dimension: {c.shape} und Typ: {c.dtype}.')"
   ]
  },
  {
   "cell_type": "code",
   "execution_count": 3,
   "id": "46a7d168-a7d3-4796-8b97-ae11596dfb4f",
   "metadata": {},
   "outputs": [
    {
     "name": "stdout",
     "output_type": "stream",
     "text": [
      "Array a hat Dimension: (8,) und Typ: int64.\n",
      "Array a hat Dimension: (2, 4) und Typ: float64.\n",
      "Array a hat Dimension: (1,) und Typ: <U13.\n"
     ]
    }
   ],
   "source": [
    "a = np.array([1,2,3,4,5,6,7,8])\n",
    "print(f'Array a hat Dimension: {a.shape} und Typ: {a.dtype}.')\n",
    "\n",
    "b = np.array([[1,2,3,4], [5.0,6,7,8]])\n",
    "print(f'Array a hat Dimension: {b.shape} und Typ: {b.dtype}.')\n",
    "\n",
    "# String-Arrays sind auch möglich, aber eher selten nützlich\n",
    "c = np.array(['Hallo KiKurs!'])\n",
    "print(f'Array a hat Dimension: {c.shape} und Typ: {c.dtype}.')"
   ]
  },
  {
   "cell_type": "markdown",
   "id": "2a57b64b-b223-45fe-bfd0-059965a08bfc",
   "metadata": {},
   "source": [
    "# spezielle Arrays"
   ]
  },
  {
   "cell_type": "code",
   "execution_count": 4,
   "id": "15fab561-54d4-4112-98d3-4a68ad475be2",
   "metadata": {},
   "outputs": [
    {
     "name": "stdout",
     "output_type": "stream",
     "text": [
      "Array d hat Dimension: (2, 4) und Typ: float64.\n",
      "Array d sieht so aus:\n",
      "[[0. 0. 0. 0.]\n",
      " [0. 0. 0. 0.]]\n",
      "\n",
      "\n",
      "Array e hat Dimension: (3,) und Typ: float64.\n",
      "Array e sieht so aus:\n",
      "[1. 1. 1.]\n",
      "\n",
      "\n",
      "Array f hat Dimension: (8,) und Typ: float64.\n",
      "Array f sieht so aus:\n",
      "[0.7101427  0.28584411 0.70708328 0.96041237 0.25319646 0.37324362\n",
      " 0.46283924 0.15939904]\n",
      "\n",
      "\n",
      "Array g hat Dimension: (8,) und Typ: int64.\n",
      "Array g sieht so aus:\n",
      "[1 2 3 4 5 6 7 8]\n"
     ]
    }
   ],
   "source": [
    "d = np.zeros((2, 4))  # Array das nur mit 0en gefüllt ist\n",
    "print(f'Array d hat Dimension: {d.shape} und Typ: {d.dtype}.')\n",
    "print(f'Array d sieht so aus:\\n{d}')\n",
    "print(\"\\n\")\n",
    "\n",
    "e = np.ones(3)  # Array das nur mit 1en gefüllt ist\n",
    "print(f'Array e hat Dimension: {e.shape} und Typ: {e.dtype}.')\n",
    "print(f'Array e sieht so aus:\\n{e}')\n",
    "print(\"\\n\")\n",
    "\n",
    "f = np.random.rand(8)  # zufällige Zahlen aus dem Interval [0,1]\n",
    "print(f'Array f hat Dimension: {f.shape} und Typ: {f.dtype}.')\n",
    "print(f'Array f sieht so aus:\\n{f}')\n",
    "print(\"\\n\")\n",
    "\n",
    "g = np.arange(1, 9)  # [1, 2, ..., 8]\n",
    "print(f'Array g hat Dimension: {g.shape} und Typ: {g.dtype}.')\n",
    "print(f'Array g sieht so aus:\\n{g}')"
   ]
  },
  {
   "cell_type": "markdown",
   "id": "91896367-41ab-44e3-a3bb-9897cece1bd8",
   "metadata": {},
   "source": [
    "# Array-Manipulation"
   ]
  },
  {
   "cell_type": "code",
   "execution_count": 5,
   "id": "b094a1b3-3948-4609-94b0-4f24ab9dd078",
   "metadata": {},
   "outputs": [
    {
     "name": "stdout",
     "output_type": "stream",
     "text": [
      "[1 2 3 4 5 6 7 8]\n",
      "[[1 2 3 4]\n",
      " [5 6 7 8]]\n",
      "\n",
      "\n",
      "[1 2 3 4 5 6 7 8]\n",
      "[[1]\n",
      " [2]\n",
      " [3]\n",
      " [4]\n",
      " [5]\n",
      " [6]\n",
      " [7]\n",
      " [8]]\n"
     ]
    }
   ],
   "source": [
    "# von (1,8) zu (2,4)\n",
    "print(a)\n",
    "print(a.reshape(2, 4))\n",
    "\n",
    "print(\"\\n\")\n",
    "\n",
    "# Zeilenvektor in Spaltenvektor\n",
    "print(g)\n",
    "print(g.reshape(-1, 1))  # -1 bedeutet, dass Numpy diese Dimension selbst herausfinden soll"
   ]
  },
  {
   "cell_type": "code",
   "execution_count": 6,
   "id": "968112f7-ce5c-46bc-b661-ec7cd42cb5f7",
   "metadata": {},
   "outputs": [
    {
     "name": "stdout",
     "output_type": "stream",
     "text": [
      "[1 2 3 4]\n",
      "\n",
      "\n",
      "[[1 2]\n",
      " [3 4]]\n"
     ]
    }
   ],
   "source": [
    "h = np.array([1,2])\n",
    "i = np.array([3,4])\n",
    "\n",
    "print(np.concatenate([h,i]))\n",
    "\n",
    "print(\"\\n\")\n",
    "\n",
    "print(np.stack([h, i]))"
   ]
  },
  {
   "cell_type": "markdown",
   "id": "ba1be970-a528-4bb4-a7ba-0f3e1eb27134",
   "metadata": {},
   "source": [
    "# Lineare Algebra "
   ]
  },
  {
   "cell_type": "code",
   "execution_count": 7,
   "id": "35e2091d-f803-4d6e-8590-f66dae84508d",
   "metadata": {},
   "outputs": [
    {
     "name": "stdout",
     "output_type": "stream",
     "text": [
      "[1 2]\n",
      "[3 6]\n",
      "[11 12]\n",
      "[5 7]\n",
      "\n",
      "\n",
      "\n",
      "[1, 2]\n",
      "[1, 2, 1, 2, 1, 2]\n",
      "[1, 2, 4, 5]\n"
     ]
    }
   ],
   "source": [
    "# Numpy Array:\n",
    "h = np.array([1,2])\n",
    "print(h)\n",
    "print(h * 3)\n",
    "print(h + 10)\n",
    "print(h+np.array([4,5]))\n",
    "\n",
    "# Python-Listen\n",
    "h = [1,2]\n",
    "print(\"\\n\\n\")\n",
    "print(h)\n",
    "print(h * 3)\n",
    "print(h + [4,5])"
   ]
  },
  {
   "cell_type": "code",
   "execution_count": 8,
   "id": "f074e75e-718b-420e-832d-963bec37b749",
   "metadata": {},
   "outputs": [
    {
     "name": "stdout",
     "output_type": "stream",
     "text": [
      "[False  True  True]\n",
      "False\n",
      "(array([1, 2]),)\n"
     ]
    }
   ],
   "source": [
    "h = np.array([1,2,2])\n",
    "print(h > 1)\n",
    "print(np.all(h > 1)) # gibt True zurück, wenn Bedingung für alle Elemente im Array stimmt\n",
    "print(np.where(h > 1)) # gibt die Indices zurück, an denen die Bedingung wahr ist"
   ]
  },
  {
   "cell_type": "code",
   "execution_count": 9,
   "id": "95c8f118-d5e7-4c96-8ce6-1ff7bd562ebf",
   "metadata": {},
   "outputs": [
    {
     "name": "stdout",
     "output_type": "stream",
     "text": [
      "[1 2 3 4 5 6 7 8]\n",
      "np.sum: 36\n",
      "np.max: 8\n",
      "np.argmax: 7\n",
      "np.mean: 4.5\n"
     ]
    }
   ],
   "source": [
    "print(g)\n",
    "print(f\"np.sum: {np.sum(g)}\") # gibt die Summe aller Elemente zurück\n",
    "print(f\"np.max: {np.max(g)}\") # gibt den größten Wert zurück\n",
    "print(f\"np.argmax: {np.argmax(g)}\") # gibt den Index des größten Elements zurück\n",
    "print(f\"np.mean: {np.mean(g)}\")     # gibt den Mittelwert zurück"
   ]
  },
  {
   "cell_type": "code",
   "execution_count": 10,
   "id": "b974ec6f-cbe5-4c56-acd9-41353af781a2",
   "metadata": {},
   "outputs": [
    {
     "name": "stdout",
     "output_type": "stream",
     "text": [
      "[1 2 3 4 5 6 7 8]\n",
      "np.dot(g,g) (Skalarprodukt): 204\n",
      "g.dot(g) (identisch zu np.dot(g,g)): 204\n"
     ]
    }
   ],
   "source": [
    "print(g)\n",
    "print(f\"np.dot(g,g) (Skalarprodukt): {np.dot(g,g)}\")\n",
    "print(f\"g.dot(g) (identisch zu np.dot(g,g)): {g.dot(g)}\")"
   ]
  },
  {
   "cell_type": "markdown",
   "id": "f3a92c49-bb9c-4e4c-a7e1-d4bb4ac6fce2",
   "metadata": {},
   "source": [
    "# Indexing"
   ]
  },
  {
   "cell_type": "code",
   "execution_count": 11,
   "id": "f1cdaced-40f8-473b-a8b4-2d27eab88e4b",
   "metadata": {},
   "outputs": [
    {
     "name": "stdout",
     "output_type": "stream",
     "text": [
      "[[1. 2. 3. 4.]\n",
      " [5. 6. 7. 8.]]\n",
      "\n",
      "\n",
      "b[0]: [1. 2. 3. 4.]\n",
      "\n",
      "\n",
      "b[:,0]: [1. 5.]\n",
      "\n",
      "\n",
      "b[-1]: [5. 6. 7. 8.]\n",
      "\n",
      "\n",
      "b[:,-1]: [4. 8.]\n"
     ]
    }
   ],
   "source": [
    "print(b)\n",
    "print(\"\\n\")\n",
    "print(f\"b[0]: {b[0]}\")     # erste Zeile\n",
    "print(\"\\n\")\n",
    "print(f\"b[:,0]: {b[:,0]}\") # erste Spalte\n",
    "\n",
    "print(\"\\n\")\n",
    "\n",
    "print(f\"b[-1]: {b[-1]}\")     # letzte Zeile\n",
    "print(\"\\n\")\n",
    "print(f\"b[:,-1]: {b[:,-1]}\") # letzte Spalte"
   ]
  },
  {
   "cell_type": "code",
   "execution_count": 12,
   "id": "4a16d0d7-d068-4dfc-a218-0769465faad1",
   "metadata": {},
   "outputs": [
    {
     "name": "stdout",
     "output_type": "stream",
     "text": [
      "[1 2 2]\n",
      "[1 2 3 4 5 6 7 8]\n",
      "[2 3 3]\n"
     ]
    }
   ],
   "source": [
    "print(h)\n",
    "print(g)\n",
    "print(g[h])"
   ]
  },
  {
   "cell_type": "code",
   "execution_count": null,
   "id": "5d36c517-6118-41fa-9a6b-2c9fe9a5fffa",
   "metadata": {},
   "outputs": [],
   "source": []
  }
 ],
 "metadata": {
  "kernelspec": {
   "display_name": "Python 3 (ipykernel)",
   "language": "python",
   "name": "python3"
  },
  "language_info": {
   "codemirror_mode": {
    "name": "ipython",
    "version": 3
   },
   "file_extension": ".py",
   "mimetype": "text/x-python",
   "name": "python",
   "nbconvert_exporter": "python",
   "pygments_lexer": "ipython3",
   "version": "3.11.6"
  }
 },
 "nbformat": 4,
 "nbformat_minor": 5
}
