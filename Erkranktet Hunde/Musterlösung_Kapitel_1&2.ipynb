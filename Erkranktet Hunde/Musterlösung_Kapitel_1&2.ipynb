{
 "cells": [
  {
   "cell_type": "markdown",
   "metadata": {},
   "source": [
    "# Tutorial_1 Das BWKI Hundetutorial  🐶🩺 "
   ]
  },
  {
   "cell_type": "markdown",
   "metadata": {},
   "source": [
    "## Musterlösung für Kapitel 1 & 2  📚"
   ]
  },
  {
   "cell_type": "markdown",
   "metadata": {},
   "source": [
    "Dies ist die Musterlösung zu den Programmieraufgaben des ersten Kapitels.\n",
    "Schaut sie euch erst an wenn ihr versucht habt, die Übung selbstständig zu lösen und nicht mehr weiter kommt. Bei Fragen könnt ihr euch jederzeit auf unserem Discord Server mit anderen TeilnehmerInnen austauschen!\n",
    "\n",
    "Viel Erfolg bei diesem Tutorial!\n",
    "\n",
    "Als erstes müssen wir unsere **Daten einlesen** und für die Datenverarbeitung benötigte Packages(Bibliotheken) einlesen.\n"
   ]
  },
  {
   "cell_type": "code",
   "execution_count": 4,
   "metadata": {},
   "outputs": [],
   "source": [
    "#Installiere numpy, ein Paket zur Datenverarbeitung\n",
    "import numpy as np\n",
    "\n",
    "#Beschreibung von Paketen erhalten"
   ]
  },
  {
   "cell_type": "code",
   "execution_count": 5,
   "metadata": {},
   "outputs": [
    {
     "data": {
      "text/plain": [
       "'/home/jovyan/ML/Erkranktet Hunde'"
      ]
     },
     "execution_count": 5,
     "metadata": {},
     "output_type": "execute_result"
    }
   ],
   "source": [
    "#Prüfe in welchem Arbeitsverzeichnis du gerade arbeitest (working directory)\n",
    "#Im selben Ordner müssen auch die Daten gespeichert sein\n",
    "%pwd"
   ]
  },
  {
   "cell_type": "code",
   "execution_count": 6,
   "metadata": {},
   "outputs": [
    {
     "ename": "NameError",
     "evalue": "name 'cd' is not defined",
     "output_type": "error",
     "traceback": [
      "\u001b[0;31m---------------------------------------------------------------------------\u001b[0m",
      "\u001b[0;31mNameError\u001b[0m                                 Traceback (most recent call last)",
      "Cell \u001b[0;32mIn[6], line 3\u001b[0m\n\u001b[1;32m      1\u001b[0m \u001b[38;5;66;03m#Du bist noch nicht im richtigen Ordner? Ändere mit cd /Pfad deine working directory dorthin wo die Daten liegen\u001b[39;00m\n\u001b[1;32m      2\u001b[0m \u001b[38;5;66;03m# ersetze die ... falls du nicht weiter kommst, einfach im Internet nach change working directory Jupyter Notebook suchen\u001b[39;00m\n\u001b[0;32m----> 3\u001b[0m \u001b[43mcd\u001b[49m \u001b[38;5;241m/\u001b[39mUsers\u001b[38;5;241m/\u001b[39m\u001b[38;5;241m.\u001b[39m\u001b[38;5;241m.\u001b[39m\u001b[38;5;241m.\u001b[39m\n",
      "\u001b[0;31mNameError\u001b[0m: name 'cd' is not defined"
     ]
    }
   ],
   "source": [
    "#Du bist noch nicht im richtigen Ordner? Ändere mit cd /Pfad deine working directory dorthin wo die Daten liegen\n",
    "# ersetze die ... falls du nicht weiter kommst, einfach im Internet nach change working directory Jupyter Notebook suchen\n",
    "cd /Users/..."
   ]
  },
  {
   "cell_type": "code",
   "execution_count": 7,
   "metadata": {},
   "outputs": [],
   "source": [
    "#Einlesen der Daten\n",
    "D = np.load('train_data.npy')"
   ]
  },
  {
   "cell_type": "code",
   "execution_count": 8,
   "metadata": {},
   "outputs": [
    {
     "data": {
      "text/plain": [
       "(426, 14)"
      ]
     },
     "execution_count": 8,
     "metadata": {},
     "output_type": "execute_result"
    }
   ],
   "source": [
    "# Eigenschaften des Datensatzes einsehen (Zeilen, Spalten)\n",
    "D.shape"
   ]
  },
  {
   "cell_type": "markdown",
   "metadata": {},
   "source": [
    "Zuerst wollen wir uns einen **Überblick über den Datensatz** verschaffen und uns die 14 verschiedenen Variablen anschauen, die uns für insgesamt 426 Hunde vorliegen. Wichtig: Die Überschriften der Merkmale sind nicht im Datensatz gespeichert, daher sollten wir uns diese am besten abspeichern (z.B. in unserem Jupyter Notebook). Wir müssen mehrfach auf verschiedene Merkmale zurück greifen."
   ]
  },
  {
   "cell_type": "markdown",
   "metadata": {},
   "source": [
    "Der Datensatz umfasst folgende 14 Eigenschaften [Python zählt von 0 aufwärts]:\n",
    "\n",
    "Spalte/ Merkmal \n",
    "<br> 0 Alter\n",
    "<br>1 Geschlecht (0 = männlich, 1 = weiblich)\n",
    "<br>2 Würmer (0 = keine, 1 = Typ I, 2 = Typ II, 3 = Typ I + II)\n",
    "<br>3 Ruhender Blutdruck\n",
    "<br>4 Cholesterinspiegel (in mg/dl)\n",
    "<br>5 Nüchtern-Blutzuckerspiegel > 120 mg/dl (1 = hoch; 0 = niedrig)\n",
    "<br>6 Ruhende elektrokardiographische Ergebnisse (0 = normal, 1 = ST-T Abnormalität, 2 = linke ventrikuläre Hypertrophie)\n",
    "<br>7 Maximale Herzfrequenz\n",
    "<br>8 Durch Bewegung verursachte Angina pectoris (1 = Ja; 0 = Nein)\n",
    "<br>9 ST-Absenkung, die durch Bewegung in Bezug auf die Ruhephase hervorgerufen wird (ein Marker im EKG).\n",
    "<br>10 Die maximale Steigung des ST-Segments bei Bewegung\n",
    "<br>11 Anzahl der großen Gefäße (0-3), aufgenommen durch Ultraschall\n",
    "<br>12 Blutfluss im Herz (3 = normal; 6 = fixer defekt; 7 = reversibler defekt )\n",
    "<br>13 Diagnose (1 = krank, 0 = gesund)"
   ]
  },
  {
   "cell_type": "markdown",
   "metadata": {},
   "source": [
    "## Kapitel 2"
   ]
  },
  {
   "cell_type": "markdown",
   "metadata": {},
   "source": [
    "Deine Aufgabe ist es die Herzfrequenz(8. Merkmal) des 10. Hundes herausfinden (Abschnitt 5/20).\n",
    "Dies ist die MUSTERLÖSUNG! Die Coding-Konsole im Ki-Kurs enthält weitere Informationen zu Funktionen, Argumenten oder Erklärungen zum Ergebnis."
   ]
  },
  {
   "cell_type": "code",
   "execution_count": null,
   "metadata": {},
   "outputs": [],
   "source": [
    "herzfrequenz = D[9,7]\n",
    "print(herzfrequenz)\n"
   ]
  },
  {
   "cell_type": "markdown",
   "metadata": {},
   "source": [
    "Deine Aufgabe ist es die folgenden Informationen über die Hunde herausfinden (Abschnitt 8/20).\n",
    "Dies ist die MUSTERLÖSUNG! Die Coding-Konsole im Ki-Kurs enthält weitere Informationen zu Funktionen, Argumenten oder Erklärungen zum Ergebnis."
   ]
  },
  {
   "cell_type": "code",
   "execution_count": null,
   "metadata": {},
   "outputs": [],
   "source": [
    "# Das Alter aller Hunde\n",
    "alter_alle = D[:,0] #hier definierst du eine neue Variable, die Variable alter_alle\n",
    "print(alter_alle) #der Print Befehl zeigt dir das Ergebnis an!"
   ]
  },
  {
   "cell_type": "code",
   "execution_count": null,
   "metadata": {},
   "outputs": [],
   "source": [
    "# Die ersten drei Merkmale des ersten Hundes\n",
    "drei_merkmale_hund1 = D[0,0:3]\n",
    "print(drei_merkmale_hund1)"
   ]
  },
  {
   "cell_type": "code",
   "execution_count": null,
   "metadata": {},
   "outputs": [],
   "source": [
    "# Gesundheitszustand des 14. Hundes\n",
    "gesundheit_hund14 = D[13,13]\n",
    "print(gesundheit_hund14)"
   ]
  },
  {
   "cell_type": "code",
   "execution_count": null,
   "metadata": {},
   "outputs": [],
   "source": [
    " # Alle Merkmale des 14. Hundes\n",
    "merkmale_hund14 = D[13,0:13]\n",
    "print(merkmale_hund14)"
   ]
  },
  {
   "cell_type": "code",
   "execution_count": null,
   "metadata": {},
   "outputs": [],
   "source": [
    "# Alle Merkmale aller Hunde\n",
    "merkmale_alle = D[:,0:13]\n",
    "print(merkmale_alle)"
   ]
  },
  {
   "cell_type": "code",
   "execution_count": null,
   "metadata": {},
   "outputs": [],
   "source": [
    "#Oder du arbeitest mit einer Definition def()\n",
    "def ausgaben(D):\n",
    "    alter = D[:,0]\n",
    "    drei_merkmale_hund1 = D[0, 0:3]\n",
    "    gesundheit_hund14 = D[13, -1]\n",
    "    merkmale_hund14 = D[13, :-1]\n",
    "    merkmale_alle = D[:, :-1]\n",
    "\n",
    "    return alter, drei_merkmale_hund1, gesundheit_hund14, merkmale_hund14, merkmale_alle"
   ]
  },
  {
   "cell_type": "markdown",
   "metadata": {},
   "source": [
    "Nun sollst du dir die Anzahl an gespeicherten Variablen in der Funktion Ausgabe anzeigen lassen "
   ]
  },
  {
   "cell_type": "code",
   "execution_count": null,
   "metadata": {},
   "outputs": [],
   "source": [
    "len(ausgaben(D))"
   ]
  },
  {
   "cell_type": "code",
   "execution_count": null,
   "metadata": {},
   "outputs": [],
   "source": [
    "#Und nun den numerischen Inhalt der Funktion ausgeben\n",
    "print(ausgaben(D))\n",
    "\n",
    "#oder die numerische Ausgabe einer Variable\n",
    "print(drei_merkmale_hund1)\n",
    "\n"
   ]
  },
  {
   "cell_type": "markdown",
   "metadata": {},
   "source": [
    "Deine Aufgabe ist herauszufinden, wie viele der Hunde krank sind (Abschnitt 11/20).\n",
    "Dies ist die MUSTERLÖSUNG! Die Coding-Konsole im Ki-Kurs enthält weitere Informationen zu Funktionen, Argumenten oder Erklärungen zum Ergebnis."
   ]
  },
  {
   "cell_type": "code",
   "execution_count": null,
   "metadata": {},
   "outputs": [],
   "source": [
    "#Schreibe eine Funktion, die sowohl den Gesundheitszustand von Hund 1-13 (0=gesund, 1=krank) als auch die Anzahl kranker Hunde definiert\n",
    "def anzahl_kranker_hunde(D):\n",
    "    \"\"\" Gibt die Anzahl der kranken Hunde aus.\n",
    "    Args:\n",
    "        D (numpy.ndarray): Datenmatrix:\n",
    "            - pro Hund eine Zeile (erster Index)\n",
    "            - pro Eigenschaft eine Spalte (zweiter Index)\n",
    "    Returns:\n",
    "        int: Anzahl kranker Hunde.\n",
    "    \"\"\"\n",
    "   \n",
    "    anzahl = D[:,-1].sum()\n",
    "    \n",
    "    for i in range(0,13):\n",
    "        print(\"Der Hund Nummer \", i, \"hat den Gesundheitszustand \", D[i, -1])\n",
    "        \n",
    "        \n",
    "    return anzahl"
   ]
  },
  {
   "cell_type": "code",
   "execution_count": null,
   "metadata": {},
   "outputs": [],
   "source": [
    "# Lass dir den Inhalt der Funktion anzahl_kranker_hunde(D) ausgeben\n",
    "#Diese enthält sowohl den Gesundheitszustand von Hund 1-13 (0=gesund, 1=krank) als auch die Anzahl kranker Hunde (255)\n",
    "print(anzahl_kranker_hunde(D))\n"
   ]
  },
  {
   "cell_type": "markdown",
   "metadata": {},
   "source": [
    "Deine Aufgabe ist, mit Hilfe von der kurzen Funktion np.sum() herauszufinden, wie viele der Hunde krank sind (Abschnitt 12/20).\n",
    "Dies ist die MUSTERLÖSUNG! Die Coding-Konsole im Ki-Kurs enthält weitere Informationen zu Funktionen, Argumenten oder Erklärungen zum Ergebnis."
   ]
  },
  {
   "cell_type": "code",
   "execution_count": null,
   "metadata": {},
   "outputs": [],
   "source": [
    "#Nutze anstelle von einer For-Schleife die Funktion np.sum() um die Anzahl kranker Hunde zu berechnen\n",
    "anzahl = np.sum(D[:,13])\n",
    "print(anzahl)"
   ]
  },
  {
   "cell_type": "markdown",
   "metadata": {},
   "source": [
    "Deine Aufgabe ist, dir mit Hilfe von einer if-else-Abfrage in Textform ausgeben zu lassen, ob der Hund gesund (0)oder krank (1) ist oder ein Fehler aufgetreten ist.(Abschnitt 16/20).\n",
    "Dies ist die MUSTERLÖSUNG! Die Coding-Konsole im Ki-Kurs enthält weitere Informationen zu Funktionen, Argumenten oder Erklärungen zum Ergebnis."
   ]
  },
  {
   "cell_type": "code",
   "execution_count": null,
   "metadata": {},
   "outputs": [],
   "source": [
    "#das package numpy haben wir bereits weiter oben installiert\n",
    "\n",
    "def textausgabe(gesundheitszustand):\n",
    "    \"\"\"Textausgabe über Gesundheitszustand\n",
    "    Args:\n",
    "        gesundheitszustand (int): Gibt den Gesundheitszustand eines Hundes an\n",
    "        \n",
    "    Returns:\n",
    "            (string): Text, der ausgibt:\n",
    "            Für gesunde Hunde: \"Dieser Hund ist gesund.\"\n",
    "            Für kranke Hunde: \"Dieser Hund ist krank.\"\n",
    "            Für Werte ungleich 0 oder 1: \"Fehler.\"\n",
    "    \"\"\"\n",
    "    if gesundheitszustand == 0:\n",
    "        ausgabe = \"Dieser Hund ist gesund.\"\n",
    "\n",
    "    elif gesundheitszustand == 1:\n",
    "        ausgabe = \"Dieser Hund ist krank.\"\n",
    "\n",
    "    else: \n",
    "        ausgabe = \"Fehler.\"\n",
    "\n",
    "    return ausgabe"
   ]
  },
  {
   "cell_type": "code",
   "execution_count": null,
   "metadata": {},
   "outputs": [],
   "source": [
    "#Lass dir den Gesundheitszustand des ersten Hundes ausgeben\n",
    "print(textausgabe(D[0,13]))\n",
    "#Lass dir den Gesundheitszustand des 232. Hundes ausgeben\n",
    "print(textausgabe(D[231,13]))\n"
   ]
  },
  {
   "cell_type": "markdown",
   "metadata": {},
   "source": [
    "Deine Aufgabe ist der Tierärztin, mit Hilfe von einer while-Schleife eine beliebige Anzahl an gesunden oder kranken Hunden aus dem Datensatz ausgeben zu können, die sie untersuchen kann (Abschnitt 17/20). Dies ist die MUSTERLÖSUNG! Die Coding-Konsole im Ki-Kurs enthält weitere Informationen zu Funktionen, Argumenten oder Erklärungen zum Ergebnis."
   ]
  },
  {
   "cell_type": "code",
   "execution_count": 9,
   "metadata": {},
   "outputs": [],
   "source": [
    "#das package numpy haben wir bereits weiter oben installiert\n",
    "\n",
    "def hunde_ausgabe(D, anzahl, gesundheitszustand):\n",
    "    \"\"\" Gibt eine bestimmte Anzahl an Hunden eines gewissen Gesundheitszustandes aus\n",
    "    Args:\n",
    "        D (numpy.ndarray): Datenmatrix:\n",
    "            - pro Hund eine Zeile (erster Index)\n",
    "            - pro Eigenschaft eine Spalte (zweiter Index)\n",
    "        anzahl (int): Anzahl an Hunden, die zurück gegeben werden sollen\n",
    "        gesundheitszustand (float): gewünschter Gesundheitszustand\n",
    "    Returns:\n",
    "        list: Liste mit den Indizes der Hunde\n",
    "    \"\"\"\n",
    "    liste_hunde = []\n",
    "    zähler = 0\n",
    "    hund = 0\n",
    "\n",
    "    while zähler < anzahl:\n",
    "        if D[hund,-1] == gesundheitszustand:\n",
    "            zähler = zähler + 1\n",
    "            liste_hunde.append(hund)\n",
    "\n",
    "        hund = hund + 1\n",
    "\n",
    "    return liste_hunde\n",
    "\n",
    "\n"
   ]
  },
  {
   "cell_type": "code",
   "execution_count": 10,
   "metadata": {},
   "outputs": [
    {
     "name": "stdout",
     "output_type": "stream",
     "text": [
      "[1, 2, 6, 8, 9, 12, 16, 22, 23, 24]\n"
     ]
    }
   ],
   "source": [
    "#Hier wird der Tierärztin eine Liste mit 10 kranken Hunden vorgelegt, die sie schnellstmöglich untersuchen sollte\n",
    "liste = hunde_ausgabe(D,10,1)\n",
    "print(liste)"
   ]
  },
  {
   "cell_type": "markdown",
   "metadata": {},
   "source": [
    "Deine nächste Aufgabe - Das Tierheim möchte wissen, was die durchschnittliche Herzfrequenz (Merkmal 8) aller Hunde ist. Kannst du ihnen dabei helfen (Abschnitt 18/20)? Dies ist die MUSTERLÖSUNG! Die Coding-Konsole im Ki-Kurs enthält weitere Informationen zu Funktionen, Argumenten oder Erklärungen zum Ergebnis."
   ]
  },
  {
   "cell_type": "code",
   "execution_count": null,
   "metadata": {},
   "outputs": [],
   "source": [
    "#Das Paket numpy haben wir bereits weiter oben importiert\n",
    "def durchschnittliche_herzfrequenz(D):\n",
    "    \"\"\" Gibt das Mittel der Herzfrequenzen aller Hunde aus.\n",
    "    Args:\n",
    "        D (numpy.ndarray): Datenmatrix:\n",
    "            - pro Hund eine Zeile (erster Index)\n",
    "            - pro Eigenschaft eine Spalte (zweiter Index)\n",
    "    Returns:\n",
    "        float: Arithmetisches Mittel der Herzfrequenzen (mean heart rate = mhr) aller Hunde\n",
    "    \"\"\"\n",
    "    mhr = D[:, 7].mean()\n",
    "    return mhr"
   ]
  },
  {
   "cell_type": "code",
   "execution_count": null,
   "metadata": {},
   "outputs": [],
   "source": [
    "#Lass dir die durchschnittliche Herzfrequenz aller Hunde ausgeben\n",
    "print(durchschnittliche_herzfrequenz(D))"
   ]
  },
  {
   "cell_type": "code",
   "execution_count": null,
   "metadata": {},
   "outputs": [],
   "source": [
    "#Wow das ist aber eine lange Zahl .. Kürzen wir diese doch auf 2 Nachkommastellen\n",
    "round(132.51682867672503, 2)"
   ]
  },
  {
   "cell_type": "markdown",
   "metadata": {},
   "source": [
    "In der nächsten Aufgabe geht es darum herauszufinden, ob ein Zusammenhang zwischen der Herzfrequenz und dem Gesundheitszustand besteht d.h. haben kranke Hunde (1) im Durchschnitt eine niedrigere oder höhere Herzfrequenz, als Hunde die gesund sind (0) (Abschnitt 19/20)? Dies ist die MUSTERLÖSUNG! Die Coding-Konsole im KI-Kurs enthält weitere Informationen zu Funktionen, Argumenten oder Erklärungen zum Ergebnis."
   ]
  },
  {
   "cell_type": "code",
   "execution_count": null,
   "metadata": {},
   "outputs": [],
   "source": [
    "#Numpy wurde bereits weiter oben installiert\n",
    "# Abkürzungserläuterung dhf_krank = filtert alle kranken Hunde heraus\n",
    "# Abkürzungserläuterung ahr = berechnet die mittlere Herzfrequenz (8.Merkmal) aller kranken Hunde\n",
    "\n",
    "\n",
    "def durchschnittliche_herzfrequenz_kranker_hunde(D):\n",
    "    dhf_krank = D[:, -1] == 1 #filtert alle kranken Hunde heraus\n",
    "    ahr = D[dhf_krank, 7].mean() #berechnet die mittlere Herzfrequenz (8.Merkmal) aller kranken Hunde\n",
    "    return ahr\n",
    "\n",
    "def durchschnittliche_herzfrequenz_gesunder_hunde(D):\n",
    "    dhf_gesund = D[:, -1] == 0 #filtert alle gesunden Hunde heraus\n",
    "    ahr = D[dhf_gesund, 7].mean() #berechnet die mittlere Herzfrequenz (8.Merkmal) aller kranken Hunde\n",
    "    return ahr"
   ]
  },
  {
   "cell_type": "markdown",
   "metadata": {},
   "source": [
    "In der letzten Aufgabe des zweiten Kapitels geht es darum schnellstmöglich herauszufinden, ob ein Hund gesund oder krank ist und zwar direkt bei der Einlieferung der Hunde. Hierfür vergleichen wir die durchschnittliche Herzfrequenz von gesunden Hunden, mit der von kranken Hunden und berechnen die Differenz zwischen den Mittelwerten(Abschnitt 20/20). Dies ist die MUSTERLÖSUNG! Die Coding-Konsole im Ki-Kurs enthält weitere Informationen zu Funktionen, Argumenten oder Erklärungen zum Ergebnis."
   ]
  },
  {
   "cell_type": "code",
   "execution_count": null,
   "metadata": {},
   "outputs": [],
   "source": [
    "#numpy wurde bereits installiert \n",
    "\n",
    "def unterschied_herzfrequenz(D):\n",
    "    mhr_diff = durchschnittliche_herzfrequenz_gesunder_hunde(D) - durchschnittliche_herzfrequenz_kranker_hunde(D)\n",
    "    return mhr_diff\n",
    "    "
   ]
  },
  {
   "cell_type": "code",
   "execution_count": null,
   "metadata": {},
   "outputs": [],
   "source": [
    "#Ausgabe der Aufgaben 19 & 20\n",
    "#Wie hoch ist die durchschnittliche Herzfrequenz kranker (1) Hunde?\n",
    "print(durchschnittliche_herzfrequenz_kranker_hunde(D))\n",
    "#Wie hoch ist die durchschnittliche Herzfrequenz kranker (0) Hunde?\n",
    "print(durchschnittliche_herzfrequenz_gesunder_hunde(D))\n",
    "#Wie hoch ist die Differenz in der Herzfrequenz zwischen gesunden und kranken Hunden?\n",
    "print(unterschied_herzfrequenz(D))"
   ]
  },
  {
   "cell_type": "markdown",
   "metadata": {},
   "source": [
    "## Du hast es geschafft! 🥳\n"
   ]
  },
  {
   "cell_type": "markdown",
   "metadata": {},
   "source": [
    "Wir sind mit dem ersten und zweiten Kapitel durch. Jetzt erst mal etwas Nervennahrung zu sich nehmen und dann kann's schon weiter gehen oder?\n"
   ]
  }
 ],
 "metadata": {
  "kernelspec": {
   "display_name": "Python 3 (ipykernel)",
   "language": "python",
   "name": "python3"
  },
  "language_info": {
   "codemirror_mode": {
    "name": "ipython",
    "version": 3
   },
   "file_extension": ".py",
   "mimetype": "text/x-python",
   "name": "python",
   "nbconvert_exporter": "python",
   "pygments_lexer": "ipython3",
   "version": "3.11.6"
  }
 },
 "nbformat": 4,
 "nbformat_minor": 4
}
