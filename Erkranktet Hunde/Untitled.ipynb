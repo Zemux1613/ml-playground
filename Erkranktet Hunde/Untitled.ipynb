{
 "cells": [
  {
   "cell_type": "raw",
   "id": "96a1fe70-41ca-4a94-9ce2-ffcddf8b4458",
   "metadata": {},
   "source": [
    "Alter\n",
    "Geschlecht (0 = männlich, 1 = weiblich)\n",
    "Würmer (0 = keine, 1 = Typ I, 2 = Typ II, 3 = Typ I + II)\n",
    "Ruhender Blutdruck\n",
    "Cholesterinspiegel (in mg/dl)\n",
    "Nüchtern-Blutzuckerspiegel > 120 mg/dl (1 = hoch; 0 = niedrig)\n",
    "Ruhende elektrokardiographische Ergebnisse (0 = normal, 1 = ST-T Abnormalität, 2 = linke ventrikuläre Hypertrophie)\n",
    "Maximale Herzfrequenz\n",
    "Durch Bewegung verursachte Angina pectoris (1 = Ja; 0 = Nein)\n",
    "ST-Absenkung, die durch Bewegung in Bezug auf die Ruhephase hervorgerufen wird (ein Marker im EKG).\n",
    "Die maximale Steigung des ST-Segments bei Bewegung\n",
    "Anzahl der großen Gefäße (0-3), aufgenommen durch Ultraschall\n",
    "Blutfluss im Herz (3 = normal; 6 = fixer defekt; 7 = reversibler defekt )\n",
    "Diagnose (1 = krank, 0 = gesund)"
   ]
  },
  {
   "cell_type": "code",
   "execution_count": 1,
   "id": "8859ccfa-c1b5-4748-9cee-9775ea505cb3",
   "metadata": {},
   "outputs": [],
   "source": [
    "import numpy as np"
   ]
  },
  {
   "cell_type": "code",
   "execution_count": 5,
   "id": "cdc384df-48f6-43e1-b9cf-3569b7ccd4af",
   "metadata": {},
   "outputs": [
    {
     "name": "stdout",
     "output_type": "stream",
     "text": [
      "[10 13 16 19]\n"
     ]
    }
   ],
   "source": [
    "a = np.arange(10,20,3)\n",
    "print(a)"
   ]
  },
  {
   "cell_type": "code",
   "execution_count": null,
   "id": "7b778ead-89a7-49fc-a6ac-4c2083b823df",
   "metadata": {},
   "outputs": [],
   "source": []
  }
 ],
 "metadata": {
  "kernelspec": {
   "display_name": "Python 3 (ipykernel)",
   "language": "python",
   "name": "python3"
  },
  "language_info": {
   "codemirror_mode": {
    "name": "ipython",
    "version": 3
   },
   "file_extension": ".py",
   "mimetype": "text/x-python",
   "name": "python",
   "nbconvert_exporter": "python",
   "pygments_lexer": "ipython3",
   "version": "3.11.6"
  }
 },
 "nbformat": 4,
 "nbformat_minor": 5
}
