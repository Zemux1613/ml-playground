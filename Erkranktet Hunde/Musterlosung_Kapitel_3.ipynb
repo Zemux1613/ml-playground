{
 "cells": [
  {
   "cell_type": "markdown",
   "metadata": {
    "id": "LerAWLCBmOed"
   },
   "source": [
    "# Tutorial_1 Das BWKI Hundetutorial 🐶🩺"
   ]
  },
  {
   "cell_type": "markdown",
   "metadata": {
    "id": "L_b0wopemOfZ"
   },
   "source": [
    "## Musterlösung für Kapitel 3 📚"
   ]
  },
  {
   "cell_type": "markdown",
   "metadata": {
    "id": "tm2OlK6RmOfk"
   },
   "source": [
    "Dies ist die Musterlösung zu den Programmieraufgaben des dritten Kapitels. Schaut sie euch erst an wenn ihr versucht habt, die Übung selbstständig zu lösen und nicht mehr weiter kommt. Bei Fragen könnt ihr euch jederzeit auf unserem Discord Server mit anderen TeilnehmerInnen austauschen!\n",
    "\n",
    "Viel Erfolg bei diesem Tutorial!\n",
    "\n",
    "Um mit dem Datensatz arbeiten zu können, müssen wir die Daten einlesen und für die Datenverarbeitung benötigte Packages (Bibliotheken) installieren."
   ]
  },
  {
   "cell_type": "markdown",
   "metadata": {
    "id": "n72gKp3JmOf1"
   },
   "source": [
    "### Vorbereitung "
   ]
  },
  {
   "cell_type": "code",
   "execution_count": 3,
   "metadata": {
    "id": "d5WeForBmOf_"
   },
   "outputs": [],
   "source": [
    "#Installiere numpy, ein Paket zur Datenverarbeitung\n",
    "import numpy as np"
   ]
  },
  {
   "cell_type": "code",
   "execution_count": null,
   "metadata": {
    "id": "PX4hhbxxmOgW"
   },
   "outputs": [],
   "source": [
    "#Prüfe in welchem Arbeitsverzeichnis (working directory) du gerade arbeitest \n",
    "#Im selben Ordner müssen auch die Daten gespeicherts sein\n",
    "%pwd"
   ]
  },
  {
   "cell_type": "code",
   "execution_count": null,
   "metadata": {
    "id": "GlI7neYBmOgi"
   },
   "outputs": [],
   "source": [
    "#Du bist noch nicht im richtigen Ordner? Ändere mit cd /Pfad deine working directory\n",
    "cd /Users/......"
   ]
  },
  {
   "cell_type": "code",
   "execution_count": 4,
   "metadata": {
    "id": "RjdaVwiFmOgp"
   },
   "outputs": [],
   "source": [
    "#Einlesen der Daten\n",
    "D = np.load('train_data.npy')"
   ]
  },
  {
   "cell_type": "code",
   "execution_count": 5,
   "metadata": {
    "id": "P3-C09aImOg1",
    "outputId": "49461337-5df8-42e4-e1c0-7a74ae3acf0a"
   },
   "outputs": [
    {
     "data": {
      "text/plain": [
       "(426, 14)"
      ]
     },
     "execution_count": 5,
     "metadata": {},
     "output_type": "execute_result"
    }
   ],
   "source": [
    "# Eigenschaften des Datensatzes einsehen (Zeilen, Spalten)\n",
    "D.shape"
   ]
  },
  {
   "cell_type": "markdown",
   "metadata": {
    "id": "eCr_twvgmOhZ"
   },
   "source": [
    "### Was bisher geschah ...."
   ]
  },
  {
   "cell_type": "markdown",
   "metadata": {
    "id": "dXdFaDljmOhg"
   },
   "source": [
    "In den Kapiteln 1 & 2 hast du gelernt einzelne Datenpunkte aus einem Datensatz zu extrahieren, kannst for und while Schleifen, if-Abfragen und Funktionen der numpy-Bibliothek anwenden. In den folgenden Aufgaben wirst du nun lernen, den Gesundheitszustand von Hunden **vorherzusagen**. Dazu verwenden wir die Daten von bereits diagnostizierten Hunden (train_data.npy)."
   ]
  },
  {
   "cell_type": "markdown",
   "metadata": {
    "id": "UD9L3mdgmOhx"
   },
   "source": [
    "Deine Aufgabe ist es anhand der vorhandenen Daten ein Vorhersagemodell, einen sog. Klassifikator, zu bauen. Ziel ist es den Gesundheitszustand von neu eingelieferten Hunden verlässlich vorherzusagen. Als erstes sollst du einen Klassifikator programmieren, der alle Hunde als krank klassifiziert (Abschnitt 3/22). Dies ist die MUSTERLÖSUNG! Die Coding-Konsole im KI-Kurs enthält weitere Informationen zu Funktionen, Argumenten oder Erklärungen zum Ergebnis."
   ]
  },
  {
   "cell_type": "code",
   "execution_count": null,
   "metadata": {
    "id": "myM4MqpbmOh7"
   },
   "outputs": [],
   "source": [
    "def constant_classifier(features): #mit features sind hier Merkmale (z.B. Gesundheitszustand) gemeint\n",
    "    \"\"\"Klassifiziert jeden Hund als krank.\n",
    "    Args:\n",
    "        features (numpy.ndarray): Vektor mit den Eigenschaften eines Hundes:\n",
    "            - pro Eigenschaft ein Wert\n",
    "    Returns:\n",
    "        int: 0 bedeutet, der Hund ist gesund,\n",
    "             1 bedeutet, der Hund ist krank.\n",
    "    \"\"\"\n",
    "    c = 1\n",
    "    # gib zurück, dass der Hund krank ist\n",
    "    return c"
   ]
  },
  {
   "cell_type": "code",
   "execution_count": null,
   "metadata": {
    "id": "8S987sH2mOiE",
    "outputId": "b1851f9b-7efd-4f95-e1a1-f78bac6c35f7"
   },
   "outputs": [
    {
     "name": "stdout",
     "output_type": "stream",
     "text": [
      "1\n"
     ]
    }
   ],
   "source": [
    "#Lass dir den Klassifikator ausgeben\n",
    "print(constant_classifier(7))"
   ]
  },
  {
   "cell_type": "markdown",
   "metadata": {
    "id": "ihV3YMtGmOiO"
   },
   "source": [
    "Es ist natürlich sehr wichtig, dass dein Algorithmus die Hunde richtig in die Kategorien gesund & krank einordnet.  In der folgenden Aufgabe sollst du eine allgemeine Funktion schreiben, die dir die Genauigkeit eines beliebigen Klassifikators in Prozent ausgibt (Abschnitt 7/22). Dies ist die MUSTERLÖSUNG! Die Coding-Konsole im KI-Kurs enthält weitere Informationen zu Funktionen, Argumenten oder Erklärungen zum Ergebnis."
   ]
  },
  {
   "cell_type": "code",
   "execution_count": null,
   "metadata": {
    "id": "5CGby4flmOiU"
   },
   "outputs": [],
   "source": [
    "def genauigkeit(D, klassifikator):\n",
    "    \"\"\"Berechnung der Genauigkeit eines Klassifikator.\n",
    "    Args:\n",
    "        D (numpy.ndarray): Datenmatrix:\n",
    "            - pro Hund eine Zeile (erster Index)\n",
    "            - pro Eigenschaft eine Spalte (zweiter Index)\n",
    "        klassifikator(): Eine Funktion eines beliebigen Klassifikators, dem die Merkmale der Hunde übergeben wurden\n",
    "                      und die ein Label (0 oder 1) zurück gibt.\n",
    "    Returns:\n",
    "        float: Accuracy des Klassifizierers. (1 bedeutet, dass\n",
    "            alles richtig klassifiziert wurde, 0.5 heißt, dass\n",
    "            die Hälfte richtig klassifiziert wurde, bei 0 wurde\n",
    "            alles falsch klassifiziert.)\n",
    "    \"\"\"\n",
    "    #definiert die Variable Vorhersage (pred)\n",
    "    pred = np.array([klassifikator(feature) for feature in D[:, :-1]])\n",
    "    genauigkeit = np.mean(D[:, -1] == pred)\n",
    "    return genauigkeit"
   ]
  },
  {
   "cell_type": "code",
   "execution_count": null,
   "metadata": {
    "id": "sHeVyjRnmOid",
    "outputId": "187c23f9-9dfa-4c4a-f275-63a1be524cf1"
   },
   "outputs": [
    {
     "name": "stdout",
     "output_type": "stream",
     "text": [
      "0.596244131455399\n"
     ]
    }
   ],
   "source": [
    "#Als erstes prüfen wir die durchschnittliche Genauigkeit unseres constant_classifier, der alle Hunde als krank einsortiert\n",
    "print(genauigkeit(D, constant_classifier))"
   ]
  },
  {
   "cell_type": "markdown",
   "metadata": {
    "id": "DQkefC77mOiv"
   },
   "source": [
    "Eine Genauigkeit von 0.60? Da hätten wir ja fast eine Münze werfen oder einfach eine zufällige Auswahl an Hunden zur Tierärztin schicken können. Unser Klassifikator muss also verbessert werden, bisher klassifiziert er alle Hunde als krank. Hierfür ziehen wir das Kriterium Herzfrequenz heran, da sich kranke und gesunde Hunde in diesem Merkmal unterscheiden. \n",
    "\n",
    "Deine Aufgabe ist es einen Klassifikator zu programmieren, der mittels der Herzfrequenz zwischen gesunden und kranken Hunden differenziert. Für die Zuordnung zu den beiden Klassen musst du zuerst den Schwellenwert (median der Herzfrequenz) ermitteln (Abschnitt 10/22). Dies ist die MUSTERLÖSUNG! Die Coding-Konsole im KI-Kurs enthält weitere Informationen zu Funktionen, Argumenten oder Erklärungen zum Ergebnis."
   ]
  },
  {
   "cell_type": "code",
   "execution_count": null,
   "metadata": {
    "id": "jGBlDzmKmOi1"
   },
   "outputs": [],
   "source": [
    "def klassifikator_herzfrequenz(D):\n",
    "    \"\"\"Klassifikator anhand der Herzfrequenz.\n",
    "    Args:\n",
    "        D (numpy.ndarray): Datenmatrix:\n",
    "            - pro Hund eine Zeile (erster Index)\n",
    "            - pro Eigenschaft eine Spalte (zweiter Index)\n",
    "\n",
    "    Returns:\n",
    "        funktion: Klassifiziert Vektoren mit Merkmalen.\n",
    "    \"\"\"\n",
    "    # Schwellenwert wird gesetzt\n",
    "    median_schwellenwert = np.median(D[:,7])\n",
    "\n",
    "    def klassifikator(merkmale, schwellenwert=median_schwellenwert):\n",
    "        \"\"\"Klassifiziert jeden Hunde anhand der Herzfrequenz.\n",
    "\n",
    "        Args:\n",
    "            merkmale (numpy.ndarray): Vektor mit den Eigenschaften eines Hundes:\n",
    "                - pro Eigenschaft ein Wert\n",
    "            schwellenwert (float): Schwellenwert zum Unterscheiden des Gesundheitszustands.\n",
    "\n",
    "        Returns:\n",
    "            int: 0 bedeutet, der Hund ist gesund,\n",
    "                 1 bedeutet, der Hund ist krank.\n",
    "        \"\"\"\n",
    "        heart_rate = merkmale[7]\n",
    "        c = heart_rate < median_schwellenwert\n",
    "        return c\n",
    "\n",
    "    return klassifikator\n"
   ]
  },
  {
   "cell_type": "code",
   "execution_count": null,
   "metadata": {
    "id": "I0AIUrnRmOi-",
    "outputId": "e8e0c00e-343b-432a-9f51-db38d024833e"
   },
   "outputs": [
    {
     "name": "stdout",
     "output_type": "stream",
     "text": [
      "0.715962441314554\n"
     ]
    }
   ],
   "source": [
    "#Als erstes prüfen wir die durchschnittliche Genauigkeit unseres klassifikator_herzfrequenz(D), der die Hunde mittels der Herzfrequenz einsortiert\n",
    "print(genauigkeit(D, klassifikator_herzfrequenz(D)))"
   ]
  },
  {
   "cell_type": "markdown",
   "metadata": {
    "id": "AYfWBAQImOjJ"
   },
   "source": [
    "Klasse 0.72 ist schonmal eine Steigerung der Genauigkeit!"
   ]
  },
  {
   "cell_type": "markdown",
   "metadata": {
    "id": "nkRcHeyZmOjO"
   },
   "source": [
    "Wie sicher ist sich unser Algorithmus bei einer einzelnen Zuordnung? Deine Aufgabe ist es die Sigmoid-Funktion zu implementieren und sie zu verwenden, um eine allgemeine Funktion zu schreiben, welche die Wahrscheinlichkeit für eine einzelne Zuordnung berechnet (Abschnitt 15/22). Dies ist die MUSTERLÖSUNG! Die Coding-Konsole im KI-Kurs enthält weitere Informationen zu Funktionen, Argumenten oder Erklärungen zum Ergebnis."
   ]
  },
  {
   "cell_type": "code",
   "execution_count": null,
   "metadata": {
    "id": "WftPdvOQmOjS"
   },
   "outputs": [],
   "source": [
    "#numpy wurde bereits weiter oben installiert\n",
    "\n",
    "def sigmoid(x):\n",
    "    \"\"\"Sigmoid Funktion\n",
    "    Args:\n",
    "        x (float): Wert auf den die Sigmoid-Funktion angewendet wird\n",
    "\n",
    "    Returns:\n",
    "         float: Transformier Wert.\n",
    "\n",
    "    Hinweis:\n",
    "        Verwende die np.exp Funktion.\n",
    "    \"\"\"\n",
    "    sigm = 1 / (1 + np.exp(-x))\n",
    "    return sigm\n",
    "\n",
    "\n",
    "def wahrscheinlichkeit(merkmale, bias):\n",
    "    \"\"\"Wahrscheinlichkeit, dass der Hund krank ist.\n",
    "\n",
    "    Args:\n",
    "        merkmale (numpy.ndarray): Vektor mit den Eigenschaften eines Hundes:\n",
    "                - pro Eigenschaft ein Wert\n",
    "        bias (float): Bias zum Unterscheiden des Gesundheitszustands.\n",
    "\n",
    "        Returns:\n",
    "        float: Wahrscheinlichkeit zwischen 0 und 1, dass der Hund krank ist.\n",
    "               Je  höher der Wert, desto eher ist der Hund krank.\n",
    "\n",
    "    \"\"\"\n",
    "    p = sigmoid(merkmale[7] + bias) #der 8. Hund des Datensatzes, Zugriff auf einen Array, in abhängigkeit von Herzfrequenz\n",
    "    return p\n"
   ]
  },
  {
   "cell_type": "code",
   "execution_count": null,
   "metadata": {
    "id": "H740c_WmmOjY",
    "outputId": "66948fb5-0e3d-4072-e2db-2c9eed8ead54"
   },
   "outputs": [
    {
     "name": "stdout",
     "output_type": "stream",
     "text": [
      "0.9999999999999065\n"
     ]
    }
   ],
   "source": [
    "#Wie sicher ist sich der Algorithmus bei der Klassifikation des Gesunheitszustandes des ersten Hundes?\n",
    "print(wahrscheinlichkeit(D[0],-120))"
   ]
  },
  {
   "cell_type": "markdown",
   "metadata": {
    "id": "oqG6ee8GmOjg"
   },
   "source": [
    "In der folgenden Aufgabe, soll die Klassifikation von der gesamten Funktionsfähigkeit des Herzens abhängig sein. Hierfür kann man einen linearen Klassifikator implementieren, der die Merkmale Herzfrequenz (8.Merkmal) und die ST-Absenkung (10. Merkmal)verwendet. Finde durch Ausprobieren, Werte für die Parameter: gewicht1, gewicht2 und den bias heraus, welche den Hund zu mind. 75% der korrekten Klasse zuordnen (Abschnitt 16/22). Dies ist die MUSTERLÖSUNG! Die Coding-Konsole im KI-Kurs enthält weitere Informationen zu Funktionen, Argumenten oder Erklärungen zum Ergebnis."
   ]
  },
  {
   "cell_type": "code",
   "execution_count": null,
   "metadata": {
    "id": "OkkKMS3NmOjl"
   },
   "outputs": [],
   "source": [
    "#Die Parameter gewicht1, gewicht2, bias wurden durch ausprobieren gewählt und können in deiner Lösung abweichen.\n",
    "#Ziel ist es eine Genauigkeit von 75% zu erzielen\n",
    "\n",
    "def klassifikator(merkmale, gewicht1=0.06, gewicht2=-1, schwellenwert=8):\n",
    "    \"\"\"Klassifiziert einen Hund anhand der Herzfrequenz und der ST-Depression.\n",
    "\n",
    "    Args:\n",
    "        merkmale (numpy.ndarray): Vektor mit den Eigenschaften eines Hundes.\n",
    "        gewicht1 (float): Gewichtet die Herzfrequenz.\n",
    "        gewicht2 (float): Gewichtet die ST-Depression.\n",
    "        bias (float): Verschiebung des Schwellenwerts zur Unterscheidung des Gesundheitszustands.\n",
    "\n",
    "        Returns:\n",
    "            int: 0 bedeutet, der Hund ist gesund,\n",
    "                 1 bedeutet, der Hund ist krank.\n",
    "        \"\"\"\n",
    "    herzrate = merkmale[7]\n",
    "    ST_Absenkung = merkmale[9]\n",
    "    if gewicht1 * herzrate + gewicht2 * ST_Absenkung < schwellenwert:\n",
    "        gesundheitszustand = 1  # krank\n",
    "    else:\n",
    "        gesundheitszustand = 0  # gesund\n",
    "    return gesundheitszustand\n"
   ]
  },
  {
   "cell_type": "code",
   "execution_count": null,
   "metadata": {
    "id": "7Qs-rFnhmOjq",
    "outputId": "b0851866-ef5b-47d4-8023-5f7bbffda6a4"
   },
   "outputs": [
    {
     "name": "stdout",
     "output_type": "stream",
     "text": [
      "0.755868544600939\n"
     ]
    }
   ],
   "source": [
    "#Lass dir ausgeben wie genau dein Klassifikator aktuell ist\n",
    "# Noch nicht bei 0.75 = 75% ? Verändere deine Parameter\n",
    "\n",
    "print(genauigkeit(D,klassifikator))\n"
   ]
  },
  {
   "cell_type": "markdown",
   "metadata": {
    "id": "VOvPl6VNmOjw"
   },
   "source": [
    "Berechne nun mittels des Skalarproduktes den Wert der gewichteten Faktoren für einen Hund und gib die Wahrscheinlichkeit für eine Klasse zurück (Abschnitt 18/22). Dies ist die MUSTERLÖSUNG! Die Coding-Konsole im KI-Kurs enthält weitere Informationen zu Funktionen, Argumenten oder Erklärungen zum Ergebnis."
   ]
  },
  {
   "cell_type": "code",
   "execution_count": null,
   "metadata": {
    "id": "kLwdW_UwmOj1"
   },
   "outputs": [],
   "source": [
    "#Numpy wurde bereits implementiert\n",
    "\n",
    "##Ebenso wie die Sigmoid Funktion\n",
    "#def sigmoid(x):\n",
    "    #sigm = 1 / (1 + np.exp(-x))\n",
    "    #return sigm\n",
    "\n",
    "\n",
    "def p(merkmale, gewicht1=0.06, gewicht2=-1, b=8):\n",
    "    \"\"\"Wahrscheinlichkeit, dass der Hund krank ist.\n",
    "\n",
    "    Args:\n",
    "        merkmale (numpy.ndarray): Vektor mit den Eigenschaften eines Hundes:\n",
    "                - pro Eigenschaft ein Wert\n",
    "        gewicht1 (float): Gewichtet die Herzfrequenz.\n",
    "        gewicht2 (float): Gewichtet die ST-Depression.\n",
    "        b (float): Bias zum Unterscheiden des Gesundheitszustands.\n",
    "\n",
    "        Returns:\n",
    "           float: Wahrscheinlichkeit zwischen 0 und 1, dass der Hund krank ist.\n",
    "                  Je  höher der Wert, desto eher ist der Hund krank.\n",
    "\n",
    "    \"\"\"\n",
    "    # Arrays für die ausgewählten Merkmale und Gewichte erstellen\n",
    "    array_merkmale = np.array([merkmale[7], merkmale[9]])\n",
    "    array_gewichte = np.array([gewicht1, gewicht2])\n",
    "\n",
    "    prob = sigmoid(np.dot(array_merkmale, array_gewichte)+b)\n",
    "    return prob\n"
   ]
  },
  {
   "cell_type": "code",
   "execution_count": null,
   "metadata": {
    "id": "323_4EDzmOj6",
    "outputId": "ccd4e24b-d347-474e-8524-67a700b0aa4f",
    "scrolled": true
   },
   "outputs": [
    {
     "name": "stdout",
     "output_type": "stream",
     "text": [
      "1\n",
      "1\n",
      "0.0\n",
      "1.0\n",
      "0.596244131455399\n"
     ]
    }
   ],
   "source": [
    "#Gib die Wahrscheinlichkeit dafür aus, dass der 231. Hund im Datensatz krank ist\n",
    "#Je  höher der Wert, desto eher ist der Hund krank.\n",
    "print(p(D[230],0.6,-1.0,8)) # (1) kranker Hund\n",
    "print(p(D[231],0.6,-1.0,8)) # (0) gesunder Hund\n",
    "\n",
    "#Prüfe manuell welcher Wert wirklich in der letzten Spalte steht\n",
    "print(D[230,-1])\n",
    "print(D[231,-1])\n",
    "\n",
    "#Lass dir die Genauigkeit des Klassifikators p ausgeben\n",
    "print(genauigkeit(D,p))\n"
   ]
  },
  {
   "cell_type": "raw",
   "metadata": {
    "id": "_Z4hqfvemOkC"
   },
   "source": [
    "Erneut eine Genauigkeit von 0.596? Unser Klassifikator sagt den Gesundheitszustand bisher lediglich etwas besser vorher, als der Zufall! Da müssen wir wohl noch dran arbeiten. Nun versuchen wir erst einmal den Klassifikator für die Zuordnung zu den Klassen krank oder gesund auf alle Hunde zu erweitern."
   ]
  },
  {
   "cell_type": "markdown",
   "metadata": {
    "id": "3ev4n1pYmOkI"
   },
   "source": [
    "Klassifiziere nun alle Hunde anhand der Herzfrequenz (ST Absenkung lassen wir erst mal weg) und lass dir die Wahrscheinlichkeiten für eine korrekte Zuordnung ausgeben (Abschnitt 19/22). Dies ist die MUSTERLÖSUNG! Die Coding-Konsole im KI-Kurs enthält weitere Informationen zu Funktionen, Argumenten oder Erklärungen zum Ergebnis."
   ]
  },
  {
   "cell_type": "code",
   "execution_count": null,
   "metadata": {
    "id": "OqBWMEGDmOkL"
   },
   "outputs": [],
   "source": [
    "#Numpy wurde bereits importiert\n",
    "\n",
    "#Ebenso wie die Sigmoid Funktion\n",
    "\n",
    "#def sigmoid(x):\n",
    "    #sigm = 1. /(1. + np.exp(-x))\n",
    "    #return sigm\n",
    "\n",
    "\n",
    "def wahrscheinlichkeit(D, gewicht, bias):\n",
    "    \"\"\"Wahrscheinlichkeit, dass ein Hunde krank ist für alle Hunde gleichzeitig.\n",
    "\n",
    "    Args:\n",
    "        D (numpy.ndarray): Datenmatrix:\n",
    "            - pro Hund eine Zeile (erster Index)\n",
    "            - pro Eigenschaft eine Spalte (zweiter Index)\n",
    "        gewicht (float): Gewichtet die Herzfrequenz.\n",
    "        bias (float): Verschiebung zur Unterscheidung des Gesundheitszustands.\n",
    "\n",
    "        Returns:\n",
    "            numpy.ndarray: Vektor mit Wahrscheinlichkeiten.\n",
    "                - pro Hund eine Wahrscheinlichkeit, dass der Hund krank ist\n",
    "                    (Werte < 0.5: Hund ist wahrscheinlich gesund,\n",
    "                     Werte > 0.5 Hund ist wahrscheinlich krank.)\n",
    "\n",
    "    \"\"\"\n",
    "    prob =  sigmoid(np.dot(D[:, 7], gewicht) + bias)\n",
    "    return prob"
   ]
  },
  {
   "cell_type": "code",
   "execution_count": null,
   "metadata": {
    "id": "meJMRHJnmOkT",
    "outputId": "f3b357b3-79ea-4546-98cc-0e277df51dbc"
   },
   "outputs": [
    {
     "name": "stdout",
     "output_type": "stream",
     "text": [
      "[1. 1. 1. 1. 1. 1. 1. 1. 1. 1. 1. 1. 1. 1. 1. 1. 1. 1. 1. 1. 1. 1. 1. 1.\n",
      " 1. 1. 1. 1. 1. 1. 1. 1. 1. 1. 1. 1. 1. 1. 1. 1. 1. 1. 1. 1. 1. 1. 1. 1.\n",
      " 1. 1. 1. 1. 1. 1. 1. 1. 1. 1. 1. 1. 1. 1. 1. 1. 1. 1. 1. 1. 1. 1. 1. 1.\n",
      " 1. 1. 1. 1. 1. 1. 1. 1. 1. 1. 1. 1. 1. 1. 1. 1. 1. 1. 1. 1. 1. 1. 1. 1.\n",
      " 1. 1. 1. 1. 1. 1. 1. 1. 1. 1. 1. 1. 1. 1. 1. 1. 1. 1. 1. 1. 1. 1. 1. 1.\n",
      " 1. 1. 1. 1. 1. 1. 1. 1. 1. 1. 1. 1. 1. 1. 1. 1. 1. 1. 1. 1. 1. 1. 1. 1.\n",
      " 1. 1. 1. 1. 1. 1. 1. 1. 1. 1. 1. 1. 1. 1. 1. 1. 1. 1. 1. 1. 1. 1. 1. 1.\n",
      " 1. 1. 1. 1. 1. 1. 1. 1. 1. 1. 1. 1. 1. 1. 1. 1. 1. 1. 1. 1. 1. 1. 1. 1.\n",
      " 1. 1. 1. 1. 1. 1. 1. 1. 1. 1. 1. 1. 1. 1. 1. 1. 1. 1. 1. 1. 1. 1. 1. 1.\n",
      " 1. 1. 1. 1. 1. 1. 1. 1. 1. 1. 1. 1. 1. 1. 1. 1. 1. 1. 1. 1. 1. 1. 1. 1.\n",
      " 1. 1. 1. 1. 1. 1. 1. 1. 1. 1. 1. 1. 1. 1. 1. 1. 1. 1. 1. 1. 1. 1. 1. 1.\n",
      " 1. 1. 1. 1. 1. 1. 1. 1. 1. 1. 1. 1. 1. 1. 1. 1. 1. 1. 1. 1. 1. 1. 1. 1.\n",
      " 1. 1. 1. 1. 1. 1. 1. 1. 1. 1. 1. 1. 1. 1. 1. 1. 1. 1. 1. 1. 1. 1. 1. 1.\n",
      " 1. 1. 1. 1. 1. 1. 1. 1. 1. 1. 1. 1. 1. 1. 1. 1. 1. 1. 1. 1. 1. 1. 1. 1.\n",
      " 1. 1. 1. 1. 1. 1. 1. 1. 1. 1. 1. 1. 1. 1. 1. 1. 1. 1. 1. 1. 1. 1. 1. 1.\n",
      " 1. 1. 1. 1. 1. 1. 1. 1. 1. 1. 1. 1. 1. 1. 1. 1. 1. 1. 1. 1. 1. 1. 1. 1.\n",
      " 1. 1. 1. 1. 1. 1. 1. 1. 1. 1. 1. 1. 1. 1. 1. 1. 1. 1. 1. 1. 1. 1. 1. 1.\n",
      " 1. 1. 1. 1. 1. 1. 1. 1. 1. 1. 1. 1. 1. 1. 1. 1. 1. 1.]\n"
     ]
    }
   ],
   "source": [
    "# Wie sicher ist sich der Algorithmus bei seiner Zordnung zu den Kategorien krank oder gesund?\n",
    "print(wahrscheinlichkeit(D,0.6,8))"
   ]
  },
  {
   "cell_type": "markdown",
   "metadata": {
    "id": "lUOErY4nmOkb"
   },
   "source": [
    "In der letzten Aufgabe dieses Kapitels, sollst du nun alle Hunde anhand von 3 Merkmalen - den ruhenden Blutdruck (Merkmal 4), der Herzfreuqenz (Merkmal 8) und der ST-Senkung (Merkmal 10) klassifizieren (Abschnitt 22/22). Dies ist die MUSTERLÖSUNG! Die Coding-Konsole im KI-Kurs enthält weitere Informationen zu Funktionen, Argumenten oder Erklärungen zum Ergebnis."
   ]
  },
  {
   "cell_type": "code",
   "execution_count": null,
   "metadata": {
    "id": "aqqHZm9vmOkg"
   },
   "outputs": [],
   "source": [
    "#Numpy ist bereits importiert\n",
    "\n",
    "#Die Sigmoid Funktion ist bereits implementiert (s.o)\n",
    "#def sigmoid(x):\n",
    "    #sigm = 1. /(1. + np.exp(-x))\n",
    "    #return sigm\n",
    "\n",
    "\n",
    "def p(D, gewicht1, gewicht2, gewicht3, bias):\n",
    "    \"\"\"Wahrscheinlichkeit, dass ein Hunde krank ist für alle Hunde gleichzeitig.\n",
    "    Args:\n",
    "        D (numpy.ndarray): Datenmatrix:\n",
    "            - pro Hund eine Zeile (erster Index)\n",
    "            - pro Eigenschaft eine Spalte (zweiter Index)\n",
    "        gewicht1 (float): Gewichtet die ruhende Blutdruck\n",
    "        gewicht2 (float): Gewichtet die Herzfrequenz.\n",
    "        gewicht3 (float): Gewichtet die ST-Depression.\n",
    "        bias (float): Bias zur Unterscheidung des Gesundheitszustands.\n",
    "    Returns:\n",
    "        numpy.ndarray: Vektor:\n",
    "            - pro Hund ein Wert:\n",
    "                Wahrscheinlichkeit zwischen 0 und 1, dass der Hund krank ist.\n",
    "                Je  höher der Wert, desto eher ist der Hund krank.\n",
    "    \"\"\"\n",
    "    gewichte = np.array([gewicht1, gewicht2, gewicht3]) \n",
    "    prob = sigmoid(np.dot(D[:, [3, 7, 9]], gewichte) + bias)\n",
    "    return prob"
   ]
  },
  {
   "cell_type": "markdown",
   "metadata": {
    "id": "wkEcP7_RmOkl"
   },
   "source": [
    "Um uns ausgeben zu lassen, wie sicher sich unser Algorithmus bei seinen Klassifikationen ist, müssen wir erneut verschiedene Gewichtungen der Parameter ausprobieren. Findest du eine gute Gewichtung?"
   ]
  },
  {
   "cell_type": "code",
   "execution_count": null,
   "metadata": {
    "id": "pvgtjQI7mOko"
   },
   "outputs": [],
   "source": [
    "# Lass dir die Wahrscheinlichkeit dafür ausgeben, wie sicher sich dein Algorithmus bei der Klassifikation \n",
    "# des Gesundheitszustandes von allen Hunden unter Einbezug von 3 Merkmalen ist\n",
    "#bei nachfolgender Gewichtung\n",
    "print(p(D,0.6,0.6,-0.1,8))"
   ]
  },
  {
   "cell_type": "code",
   "execution_count": null,
   "metadata": {
    "id": "LR8Vx8o9mOkr"
   },
   "outputs": [],
   "source": [
    "# Ein zweites Mal: Lass dir die Wahrscheinlichkeit dafür ausgeben, wie sicher sich dein Algorithmus bei  \n",
    "# der Klassifikation des Gesundheitszustandes von allen Hunden unter Einbezug von 3 Merkmalen ist\n",
    "#bei nachfolgender Gewichtung\n",
    "print(p(D,0.003,1.0,0.08,120))"
   ]
  },
  {
   "cell_type": "markdown",
   "metadata": {
    "id": "OhJyTAzUmOkw"
   },
   "source": [
    "Das ist ja komisch bei zwei völlig unterschiedlichen Gewichtungen der Parameter ist sich unser Algoritmus dennoch vollkommen sicher bei seiner Zuordnung ... Was könnte der Grund hierfür sein?"
   ]
  },
  {
   "cell_type": "markdown",
   "metadata": {
    "id": "SCv2nP8JmOk2"
   },
   "source": [
    "### Skalierung "
   ]
  },
  {
   "cell_type": "code",
   "execution_count": null,
   "metadata": {
    "id": "lecngPgumOk5"
   },
   "outputs": [],
   "source": [
    "#Schau dir mal die Skalierung (Wertebereich) der 3 Merkmale an\n",
    "D[:,3]"
   ]
  },
  {
   "cell_type": "code",
   "execution_count": null,
   "metadata": {
    "id": "H9RDJLqgmOk-"
   },
   "outputs": [],
   "source": [
    "D[:,7]"
   ]
  },
  {
   "cell_type": "code",
   "execution_count": null,
   "metadata": {
    "id": "gbMSu17mmOlD"
   },
   "outputs": [],
   "source": [
    "D[:,9]"
   ]
  },
  {
   "cell_type": "markdown",
   "metadata": {
    "id": "bbD1mOl-mOlG"
   },
   "source": [
    "Mit dem folgenden Code können wir uns die Verteilung der drei Parameter visuell darstellen."
   ]
  },
  {
   "cell_type": "code",
   "execution_count": null,
   "metadata": {
    "id": "-Dz3_aPsmOlJ"
   },
   "outputs": [],
   "source": [
    "# Wir importieren die Bibliothek matplotlib, die uns das Erstellen von Graphen ermöglicht\n",
    "import matplotlib.pyplot as plt"
   ]
  },
  {
   "cell_type": "code",
   "execution_count": null,
   "metadata": {
    "id": "exaCDsXLmOlP"
   },
   "outputs": [],
   "source": [
    "plt.hist(D[:,3],label=\"Merkmal 4\")\n",
    "plt.hist(D[:,7],label=\"Merkaml 8\")\n",
    "plt.hist(D[:,9],label=\"Merkmal 10\")\n",
    "plt.legend()"
   ]
  },
  {
   "cell_type": "markdown",
   "metadata": {
    "id": "MaZ6vVtemOlU"
   },
   "source": [
    "Das Merkmal 4 umfasst einen Wertebereich von 94 bis 185, das Merkmal 8 einen Wertebereich von 67 bis 195 und das Merkmal 10 umfasst einen Wertebereich von -2 bis 3.7. Es liegen also deutliche Unterschiede im Wertebereich vor. Herumprobieren ist zeitaufwändig und führt hier nicht zu einer brillianten Lösung (Der Klassifikator ist sich immer sehr sicher bei seinen Zuordnungen). Im nächsten Kapitel wirst du daher lernen wie man mittels des Gradientenverfahren die Parameter algorithmisch und ohne Herumprobieren bestimmt. Damit wird dein Klassifikator eine aussagekräftige Genauigkeit erzielen."
   ]
  },
  {
   "cell_type": "markdown",
   "metadata": {
    "id": "8XtT-bM6mOla"
   },
   "source": [
    "## Du hast es geschafft! 🥳"
   ]
  },
  {
   "cell_type": "markdown",
   "metadata": {
    "id": "5gYGkeIUmOlj"
   },
   "source": [
    "Auch das dritte Kapitel haben wir erfolgreich Überstanden! 💪🏼 Klassifikatoren, das Skalarprodukt und Wahrscheinlichkeiten konnten euch nicht davon abbringen die Grundlagen der KI zu erlernen. Super gemacht!"
   ]
  }
 ],
 "metadata": {
  "colab": {
   "collapsed_sections": [],
   "name": "Musterlosung_Kapitel_3.ipynb",
   "provenance": []
  },
  "kernelspec": {
   "display_name": "Python 3 (ipykernel)",
   "language": "python",
   "name": "python3"
  },
  "language_info": {
   "codemirror_mode": {
    "name": "ipython",
    "version": 3
   },
   "file_extension": ".py",
   "mimetype": "text/x-python",
   "name": "python",
   "nbconvert_exporter": "python",
   "pygments_lexer": "ipython3",
   "version": "3.11.6"
  }
 },
 "nbformat": 4,
 "nbformat_minor": 4
}
