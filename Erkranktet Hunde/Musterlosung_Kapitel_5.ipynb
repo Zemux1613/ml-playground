{
 "cells": [
  {
   "cell_type": "markdown",
   "metadata": {
    "id": "j9ReR2s-jISg"
   },
   "source": [
    "# Tutorial_1 Das BWKI Hundetutorial 🐶🩺"
   ]
  },
  {
   "cell_type": "markdown",
   "metadata": {
    "id": "RJZRh3G3jIS6"
   },
   "source": [
    "## Musterlösung für Kapitel 5 📚"
   ]
  },
  {
   "cell_type": "markdown",
   "metadata": {
    "id": "tdRmnxKvjIS_"
   },
   "source": [
    "Dies ist die Musterlösung zu den Programmieraufgaben des fünften & letzten Kapitels. \n",
    "\n",
    "Schaut sie euch erst an wenn ihr versucht habt, die Übung selbstständig zu lösen und nicht weiter kommt. Bei Fragen könnt ihr euch jederzeit auf unserem Discord Server mit anderen Teilnehmer:innen austauschen!\n",
    "\n",
    "Viel Erfolg bei diesem Tutorial!\n",
    "\n",
    "Als erstes müssen wir unsere **Daten einlesen** und für die Datenverarbeitung benötigte Packages (Module) einlesen."
   ]
  },
  {
   "cell_type": "markdown",
   "metadata": {
    "id": "nqz4EHZBjITG"
   },
   "source": [
    "### Vorbereitung "
   ]
  },
  {
   "cell_type": "code",
   "execution_count": 1,
   "metadata": {
    "id": "IZ6JsVIRjITL"
   },
   "outputs": [
    {
     "ename": "ModuleNotFoundError",
     "evalue": "No module named 'torch'",
     "output_type": "error",
     "traceback": [
      "\u001b[0;31m---------------------------------------------------------------------------\u001b[0m",
      "\u001b[0;31mModuleNotFoundError\u001b[0m                       Traceback (most recent call last)",
      "Cell \u001b[0;32mIn[1], line 2\u001b[0m\n\u001b[1;32m      1\u001b[0m \u001b[38;5;66;03m#Importiere numpy, ein Paket zur Datenverarbeitung\u001b[39;00m\n\u001b[0;32m----> 2\u001b[0m \u001b[38;5;28;01mimport\u001b[39;00m \u001b[38;5;21;01mtorch\u001b[39;00m\n\u001b[1;32m      3\u001b[0m \u001b[38;5;28;01mimport\u001b[39;00m \u001b[38;5;21;01mnumpy\u001b[39;00m \u001b[38;5;28;01mas\u001b[39;00m \u001b[38;5;21;01mnp\u001b[39;00m\n\u001b[1;32m      4\u001b[0m \u001b[38;5;28;01mimport\u001b[39;00m \u001b[38;5;21;01mtorch\u001b[39;00m\u001b[38;5;21;01m.\u001b[39;00m\u001b[38;5;21;01mnn\u001b[39;00m \u001b[38;5;28;01mas\u001b[39;00m \u001b[38;5;21;01mnn\u001b[39;00m\n",
      "\u001b[0;31mModuleNotFoundError\u001b[0m: No module named 'torch'"
     ]
    }
   ],
   "source": [
    "#Importiere numpy, ein Paket zur Datenverarbeitung\n",
    "import torch\n",
    "import numpy as np\n",
    "import torch.nn as nn"
   ]
  },
  {
   "cell_type": "code",
   "execution_count": 2,
   "metadata": {
    "colab": {
     "base_uri": "https://localhost:8080/",
     "height": 35
    },
    "executionInfo": {
     "elapsed": 296,
     "status": "ok",
     "timestamp": 1634541155704,
     "user": {
      "displayName": "Mc Toel",
      "photoUrl": "https://lh3.googleusercontent.com/a-/AOh14Giium7m5VTeymW5dJqmq-Vk873KunGLP04z1EeM=s64",
      "userId": "09970438854856090746"
     },
     "user_tz": -120
    },
    "id": "qhi1YqaZjITV",
    "outputId": "056cca31-f636-4255-a52e-430f552b8750"
   },
   "outputs": [
    {
     "data": {
      "text/plain": [
       "'/home/jovyan/ML/Erkranktet Hunde'"
      ]
     },
     "execution_count": 2,
     "metadata": {},
     "output_type": "execute_result"
    }
   ],
   "source": [
    "#Prüfe in welchem Arbeitsverzeichnis (working directory) du gerade arbeitest \n",
    "#Im selben Ordner müssen auch die Daten gespeicherts sein\n",
    "%pwd"
   ]
  },
  {
   "cell_type": "code",
   "execution_count": 3,
   "metadata": {
    "id": "prqRUnpwjITj"
   },
   "outputs": [
    {
     "ename": "NameError",
     "evalue": "name 'cd' is not defined",
     "output_type": "error",
     "traceback": [
      "\u001b[0;31m---------------------------------------------------------------------------\u001b[0m",
      "\u001b[0;31mNameError\u001b[0m                                 Traceback (most recent call last)",
      "Cell \u001b[0;32mIn[3], line 2\u001b[0m\n\u001b[1;32m      1\u001b[0m \u001b[38;5;66;03m#Du bist noch nicht im richtigen Ordner? Ändere mit cd /Pfad deine working directory\u001b[39;00m\n\u001b[0;32m----> 2\u001b[0m \u001b[43mcd\u001b[49m \u001b[38;5;241m/\u001b[39mUsers\u001b[38;5;241m/\u001b[39m \u001b[38;5;241m.\u001b[39m\u001b[38;5;241m.\u001b[39m\u001b[38;5;241m.\u001b[39m\n",
      "\u001b[0;31mNameError\u001b[0m: name 'cd' is not defined"
     ]
    }
   ],
   "source": [
    "#Du bist noch nicht im richtigen Ordner? Ändere mit cd /Pfad deine working directory\n",
    "cd /Users/ ..."
   ]
  },
  {
   "cell_type": "code",
   "execution_count": 5,
   "metadata": {
    "id": "K1Rvu7HrjITm"
   },
   "outputs": [],
   "source": [
    "#Einlesen der Daten\n",
    "# auf Windows: /\n",
    "# auf Mac & Linux: \\\n",
    "D = np.load('train_data.npy')"
   ]
  },
  {
   "cell_type": "code",
   "execution_count": 6,
   "metadata": {
    "id": "hXn_JXtYjITr",
    "outputId": "008dd984-ddd4-43b8-9f08-b438c80cb89d"
   },
   "outputs": [
    {
     "data": {
      "text/plain": [
       "(426, 14)"
      ]
     },
     "execution_count": 6,
     "metadata": {},
     "output_type": "execute_result"
    }
   ],
   "source": [
    "# Eigenschaften des Datensatzes einsehen (Zeilen, Spalten)\n",
    "D.shape"
   ]
  },
  {
   "cell_type": "markdown",
   "metadata": {
    "id": "cTL4tJSAjITz"
   },
   "source": [
    "### Was bisher geschah ...."
   ]
  },
  {
   "cell_type": "markdown",
   "metadata": {
    "id": "TTTVbDlIjIT2"
   },
   "source": [
    "... eine ganze Menge !! In den vorangegangenen Kapiteln hast du gelernt, einzelne Datenpunkte aus einem Datensatz zu extrahieren for- und while-Schleifen, if-Abfragen sowie Funktionen der numpy-Bibliothek anzuwenden. Du hast gelernt, wie du einen Klassifikator mit ein oder mehreren Merkmalen implementierst und wie man einen solchen Klassifikator bewertet, indem man die Genauigkeit des Klassifikators auf einem Testdatensatz berechnet. Ebenso hast du gelernt, wie du die Gewichte und das Bias mittels des Gradientenabstiegverfahrens bestimmst. Ein Modell mit wenigen Merkmalen ist einem Modell mit multiplen Merkmalen in der Geauigkeit seiner Vorhersagen i.d.R. unterlegen, weshalb du multivariate Modelle kennengelernt hast.\n",
    "\n",
    "Im letzten Kapitel lernst du nun wie man neuronale Netze (abgekürzt NN) implementieren, trainieren, und anschließend evaluieren kann."
   ]
  },
  {
   "cell_type": "markdown",
   "metadata": {
    "id": "uO9591R8jIT7"
   },
   "source": [
    "In der ersten Übung des 5. Kapitels musst du deinen Datensatz in einen Trainings- und einen Testdatensatz aufteilen. Dadurch kannst du anschließend die Genauigkeit deines neuronalen Netzes evaluieren indem du dein Netz auf neuen Daten testest (Abschnitt 6/11). Nimm 80% aller Daten für das Training und die restlichen 20% als Testdatensatz. Dies ist die MUSTERLÖSUNG! Die Coding-Konsole im KI-Kurs enthält weitere Informationen zu Funktionen, Argumenten oder Erklärungen zum Ergebnis."
   ]
  },
  {
   "cell_type": "code",
   "execution_count": 7,
   "metadata": {
    "id": "3sO4UU-ZjIT-"
   },
   "outputs": [],
   "source": [
    "def train_test_split(D):\n",
    "    \n",
    "    train_ix = np.random.random(size=D.shape[0]) < 0.8\n",
    "    test_ix = np.logical_not(train_ix)\n",
    "    \n",
    "    train_data = D[train_ix]\n",
    "    test_data = D[test_ix]\n",
    "    \n",
    "    return train_data, test_data"
   ]
  },
  {
   "cell_type": "code",
   "execution_count": 8,
   "metadata": {
    "id": "isTYy2JFjIUC",
    "outputId": "79856c1e-139e-4329-8ece-0f3ceb28aa1e"
   },
   "outputs": [
    {
     "name": "stdout",
     "output_type": "stream",
     "text": [
      "Dimension der Trainingsdaten: (343, 14), Dimension der Testdaten: (83, 14)\n"
     ]
    }
   ],
   "source": [
    "# nicht für die Lösung im KI-Kurs notwendig\n",
    "# Eigenschaften der 2 verschiedenen Datensätze einsehen (Zeilen, Spalten)\n",
    "train_data, test_data = train_test_split(D)\n",
    "print(f\"Dimension der Trainingsdaten: {train_data.shape}, Dimension der Testdaten: {test_data.shape}\")"
   ]
  },
  {
   "cell_type": "markdown",
   "metadata": {
    "id": "rDXlSQS6jIUG"
   },
   "source": [
    "---"
   ]
  },
  {
   "cell_type": "markdown",
   "metadata": {
    "id": "x27IyG8njIUI"
   },
   "source": [
    "Wir können die logistische Regession, die wir in den vorangegangenen Aufgaben implementiert haben, auch mit Pytorch realisieren. Hierfür verwenden wir die `nn.Linear-Klasse`. \n",
    "Indem wir ein \"neuronales Netz\" implementieren, welches nur eine Schicht hat, können wir eine logistische Regression simulieren. Im weiteren Verlauf des Tutorials werden wir natürlich auch noch komplexere Netze bauen! Die Kostenfunktion - hier nennen wir sie loss - ist in `nn.BCEWithLogitsLos` implementiert. \n"
   ]
  },
  {
   "cell_type": "markdown",
   "metadata": {
    "id": "kNQKWwkvjIUK"
   },
   "source": [
    "Unser neuronales Netz besteht in diesem Fall aus einer einzigen Schicht mit 13 Neuronen, welche direkt mit den Inputs verbunden ist. D.h. die Ausgabe unseres Netzes ist eine einfache gewichtete Summe der Inputs. Finde passende Werte für die Hyperparameter `n_step` (Anzahl der Trainingsdurchgänge) und `learning_rate` (auch alpha genannt). Bestimme wie stark sich das Netzwerk während der Backpropagation anpasst (Abschnitt 7/11). Dies ist die MUSTERLÖSUNG! Die Coding-Konsole im KI-Kurs enthält weitere Informationen zu Funktionen, Argumenten oder Erklärungen zum Ergebnis."
   ]
  },
  {
   "cell_type": "code",
   "execution_count": 9,
   "metadata": {
    "id": "6oaKlRqVjIUO"
   },
   "outputs": [
    {
     "ename": "ModuleNotFoundError",
     "evalue": "No module named 'torch'",
     "output_type": "error",
     "traceback": [
      "\u001b[0;31m---------------------------------------------------------------------------\u001b[0m",
      "\u001b[0;31mModuleNotFoundError\u001b[0m                       Traceback (most recent call last)",
      "Cell \u001b[0;32mIn[9], line 1\u001b[0m\n\u001b[0;32m----> 1\u001b[0m \u001b[38;5;28;01mimport\u001b[39;00m \u001b[38;5;21;01mtorch\u001b[39;00m\n\u001b[1;32m      2\u001b[0m \u001b[38;5;28;01mimport\u001b[39;00m \u001b[38;5;21;01mnumpy\u001b[39;00m \u001b[38;5;28;01mas\u001b[39;00m \u001b[38;5;21;01mnp\u001b[39;00m\n\u001b[1;32m      3\u001b[0m \u001b[38;5;28;01mimport\u001b[39;00m \u001b[38;5;21;01mtorch\u001b[39;00m\u001b[38;5;21;01m.\u001b[39;00m\u001b[38;5;21;01mnn\u001b[39;00m \u001b[38;5;28;01mas\u001b[39;00m \u001b[38;5;21;01mnn\u001b[39;00m\n",
      "\u001b[0;31mModuleNotFoundError\u001b[0m: No module named 'torch'"
     ]
    }
   ],
   "source": [
    "import torch\n",
    "import numpy as np\n",
    "import torch.nn as nn\n",
    "\n",
    "\n",
    "def train(D):\n",
    "\n",
    "    # Hyper-parameter\n",
    "    n_steps = 8000\n",
    "    learning_rate = 0.01\n",
    "    input_size = 13\n",
    "\n",
    "    # Daten vorbereiten\n",
    "    X = D[:, :-1].astype(np.float32)\n",
    "    labels = D[:, -1].astype(np.float32)\n",
    "    X = torch.from_numpy(X)\n",
    "    y = torch.from_numpy(labels)\n",
    "\n",
    "    # Modell definieren\n",
    "    class LogisticRegression(nn.Module):\n",
    "        def __init__(self, input_size):\n",
    "            super().__init__()\n",
    "            self.linear = nn.Linear(input_size, 1)  # Xw (linear layer)\n",
    "\n",
    "        def forward(self, x):\n",
    "            out = self.linear(x)\n",
    "            return out\n",
    "    model = LogisticRegression(input_size)\n",
    "\n",
    "    # loss (Kostenfunktion)\n",
    "    # Dokumentation: https://pytorch.org/docs/stable/nn.html#torch.nn.BCEWithLogitsLoss\n",
    "    criterion = nn.BCEWithLogitsLoss()  # Sigmoid und Binary-Cross-Entropy-Loss\n",
    "\n",
    "    # optimizer\n",
    "    # Dokumentation: https://pytorch.org/docs/stable/optim.html#torch.optim.Adam\n",
    "    optimizer = torch.optim.Adam(model.parameters(), lr=learning_rate)\n",
    "    # Alternative zu Adam\n",
    "    # Dokumentation: https://pytorch.org/docs/stable/optim.html#torch.optim.SGD\n",
    "    # optimizer = torch.optim.SGD(model.parameters(), lr=learning_rate, momentum=0.99)\n",
    "\n",
    "    # trainieren des Modells\n",
    "    for e in range(n_steps):\n",
    "        # forward pass\n",
    "        outputs = model.forward(X)[:, 0]\n",
    "        cost = criterion(outputs, y)\n",
    "\n",
    "        # backward pass (automatically computes gradients)\n",
    "        optimizer.zero_grad()  # reset gradients (torch accumulates them)\n",
    "        cost.backward()  # computes gradients\n",
    "\n",
    "        # Optimierungsschritt durchfuehren\n",
    "        optimizer.step()\n",
    "\n",
    "        # Berechnung der Accuracy\n",
    "        pred_labels = outputs > 0\n",
    "        is_correct = torch.eq(pred_labels, y.byte()).float()\n",
    "        accuracy = torch.mean(is_correct).item()\n",
    "        \n",
    "        #Damit wir einen Überblick bekommen, wie unser Modell trainiert wird und wie sich die Genauigkeit ändert\n",
    "        # lassen wir uns alle 1000 Epochen die Genauigkeit ausgegeben\n",
    "        if e%1000 == 0:\n",
    "            print(\"Epoche: {:<4} | Genauigkeit: {:.3f}\".format(e+1, accuracy)) #e+1 weil es bei 0 anfängt zu zählen, wir aber nicht \"Epoche 0\" ausgeben wollen\n",
    "\n",
    "    return model"
   ]
  },
  {
   "cell_type": "code",
   "execution_count": null,
   "metadata": {
    "id": "sUuP-T-9jIUT",
    "outputId": "6880f3e5-64bc-4750-e7d0-744005b8b485"
   },
   "outputs": [
    {
     "name": "stdout",
     "output_type": "stream",
     "text": [
      "Epoche: 1    | Genauigkeit: 0.596\n",
      "Epoche: 1001 | Genauigkeit: 0.880\n",
      "Epoche: 2001 | Genauigkeit: 0.883\n",
      "Epoche: 3001 | Genauigkeit: 0.880\n",
      "Epoche: 4001 | Genauigkeit: 0.878\n",
      "Epoche: 5001 | Genauigkeit: 0.880\n",
      "Epoche: 6001 | Genauigkeit: 0.866\n",
      "Epoche: 7001 | Genauigkeit: 0.880\n"
     ]
    }
   ],
   "source": [
    "# nicht für die Lösung im KI-Kurs notwendig\n",
    "#Trainiere das Modell\n",
    "#Lasse dir die Veränderungen der Genauigkeit während der Backpropagation ausgeben\n",
    "optimized_model = train(D)"
   ]
  },
  {
   "cell_type": "markdown",
   "metadata": {
    "id": "YT_iMNwOjIUX"
   },
   "source": [
    "Super gemacht!\n",
    "Dein Modell sollte nun eine Genauigkeit von ca. 88% erzielen."
   ]
  },
  {
   "cell_type": "markdown",
   "metadata": {
    "id": "HgJAXfuIjIUZ"
   },
   "source": [
    "---"
   ]
  },
  {
   "cell_type": "markdown",
   "metadata": {
    "id": "ZQzytPgujIUa"
   },
   "source": [
    "Modelle mit vielen Layern sind flexibler und können sich besser an die Daten anpassen. Daher ist es nun deine Aufgabe den unten folgenden Code für ein Multi-Layer-Perceptron (MLP) um die passenden Werte der Hyperparameter `n_steps` und `learning_rate` zu erweitern (Abschnitt 8/11).Dies ist die MUSTERLÖSUNG! Die Coding-Konsole im KI-Kurs enthält weitere Informationen zu Funktionen, Argumenten oder Erklärungen zum Ergebnis."
   ]
  },
  {
   "cell_type": "code",
   "execution_count": null,
   "metadata": {
    "id": "ZaSiBohsjIUc"
   },
   "outputs": [],
   "source": [
    "import torch\n",
    "import numpy as np\n",
    "import torch.nn as nn\n",
    "\n",
    "\n",
    "def train_MLP(D):\n",
    "\n",
    "    # Hyper-parameter\n",
    "    n_steps = 4000\n",
    "    learning_rate = 0.01\n",
    "    input_size = 13\n",
    "    output_size = 1\n",
    "\n",
    "    # Daten vorbereiten\n",
    "    X = D[:, :-1].astype(np.float32)\n",
    "    y = D[:, -1].astype(np.float32)\n",
    "    X = torch.from_numpy(X)\n",
    "    y = torch.from_numpy(y)\n",
    "    feature_means = torch.mean(X, dim=0)\n",
    "\n",
    "    # Modell definieren\n",
    "    class MLP(nn.Module):\n",
    "        def __init__(self, input_size):\n",
    "            super().__init__()\n",
    "            n_neurons = 4\n",
    "            self.layers = nn.Sequential(\n",
    "                nn.Linear(input_size, n_neurons),\n",
    "                nn.ReLU(),\n",
    "                nn.Linear(n_neurons, n_neurons),\n",
    "                nn.ReLU(),\n",
    "                nn.Linear(n_neurons, output_size)\n",
    "            )\n",
    "\n",
    "        def forward(self, x):\n",
    "            x = x - feature_means\n",
    "            out = self.layers(x)\n",
    "            return out\n",
    "\n",
    "    model = MLP(input_size)\n",
    "\n",
    "    # loss\n",
    "    # Dokumentation: https://pytorch.org/docs/stable/nn.html#torch.nn.BCEWithLogitsLoss\n",
    "    criterion = nn.BCEWithLogitsLoss()  # Sigmoid und Binary-Cross-Entropy-Loss\n",
    "\n",
    "    # optimizer\n",
    "    # Dokumentation: https://pytorch.org/docs/stable/optim.html#torch.optim.Adam\n",
    "    optimizer = torch.optim.Adam(model.parameters(), lr=learning_rate)\n",
    "    # Alternative zu Adam\n",
    "    # Dokumentation: https://pytorch.org/docs/stable/optim.html#torch.optim.SGD\n",
    "    # momentum = 0.9  # Wert zwischen 0. und 1.\n",
    "    # optimizer = torch.optim.SGD(model.parameters(), lr=learning_rate, momentum=momentum)\n",
    "\n",
    "    # trainieren des Modells\n",
    "    for e in range(n_steps):\n",
    "        # forward pass\n",
    "        outputs = model.forward(X)[:, 0]\n",
    "        cost = criterion(outputs, y)\n",
    "\n",
    "        # backward pass (berechnet die Gradienten automatisch)\n",
    "        optimizer.zero_grad()  # reset gradients (torch akkumuliert Gradienten)\n",
    "        cost.backward()  # berechnen der Gradienten\n",
    "\n",
    "        # Optimierungsschritt durchfuehren\n",
    "        optimizer.step()\n",
    "\n",
    "        # Berechnung der Accuracy\n",
    "        pred_labels = outputs > 0\n",
    "        is_correct = torch.eq(pred_labels, y.byte()).float()\n",
    "        accuracy = torch.mean(is_correct).item()\n",
    "\n",
    "        if e%1000 == 0:\n",
    "            print(\"Epoche: {:<4} | Genauigkeit: {:.3f}\".format(e+1, accuracy)) #e+1 weil es bei 0 anfängt zu zählen, wir aber nicht \"Epoche 0\" ausgeben wollen\n",
    "\n",
    "\n",
    "    return model"
   ]
  },
  {
   "cell_type": "code",
   "execution_count": null,
   "metadata": {
    "id": "olPpBiDljIUh",
    "outputId": "2df9658b-98bf-4886-db3e-b750f7cc3b5c"
   },
   "outputs": [
    {
     "name": "stdout",
     "output_type": "stream",
     "text": [
      "Epoche: 1    | Genauigkeit: 0.362\n",
      "Epoche: 1001 | Genauigkeit: 0.915\n",
      "Epoche: 2001 | Genauigkeit: 0.920\n",
      "Epoche: 3001 | Genauigkeit: 0.923\n"
     ]
    }
   ],
   "source": [
    "# nicht für die Lösung im KI-Kurs notwendig\n",
    "#Trainiere das Modell\n",
    "#Lasse dir die Veränderungen der Genauigkeit während der Backpropagation ausgeben\n",
    "optimized_model_MLP = train_MLP(D)"
   ]
  },
  {
   "cell_type": "markdown",
   "metadata": {
    "id": "MD3Q0ajdjIUl"
   },
   "source": [
    "Super - wir sehen, dass du den Einsatz eines komplexeren MLPs, die Genauigkeit steigt."
   ]
  },
  {
   "cell_type": "markdown",
   "metadata": {
    "id": "pDzFYlYojIUm"
   },
   "source": [
    "---\n"
   ]
  },
  {
   "cell_type": "markdown",
   "metadata": {
    "id": "sBU70OfJjIUo"
   },
   "source": [
    "Um zu verstehen, was Overfitting ist und wie du es erkennst, ist jetzt deine Aufgabe ein eigenes neuronales Netz zu erstellen, welches den Trainingsdatensatz perfekt (auswendig)lernt. Das heißt: Dein Netz sollte eine Genauigkeit von 1 auf dem Trainingsdatensatz aufweisen. Evaluiere dein Modell anschließend auf den Testdaten. Dabei solltest du merken, dass dieses Modell auf den Trainingsdaten überangepasst ist und die Erkenntnisse des Modells damit schlecht auf unbekannte Daten wie z.B. den Testdatensatz übertragen werden können. In anderen Worten generalisiert das Modell schlecht (Abschnitt 9/10). Dies ist die MUSTERLÖSUNG! Die Coding-Konsole im KI-Kurs enthält weitere Informationen zu Funktionen, Argumenten oder Erklärungen zum Ergebnis."
   ]
  },
  {
   "cell_type": "code",
   "execution_count": null,
   "metadata": {
    "id": "Q_tW1er_jIUq"
   },
   "outputs": [],
   "source": [
    "import torch\n",
    "import numpy as np\n",
    "import torch.nn as nn\n",
    "\n",
    "\n",
    "def train(D):\n",
    "\n",
    "    train, test = D[:200], D[200:]  # Die Auswertung der Aufgabe basiert auf diesem Split\n",
    "\n",
    "    # Hyper-parameter\n",
    "    n_steps = 2000\n",
    "    input_size = 13\n",
    "    output_size = 1\n",
    "    learning_rate = 0.01\n",
    "\n",
    "    # Trainings-Daten vorbereiten\n",
    "    X = train[:, :-1].astype(np.float32)\n",
    "    y = train[:, -1].astype(np.float32)\n",
    "    X_train = torch.from_numpy(X)\n",
    "    y_train = torch.from_numpy(y)\n",
    "    feature_means = torch.mean(X_train, dim=0)\n",
    "\n",
    "    # Test-Daten vorbereiten\n",
    "    X = test[:, :-1].astype(np.float32)\n",
    "    y = test[:, -1].astype(np.float32)\n",
    "    X_test = torch.from_numpy(X)\n",
    "    y_test = torch.from_numpy(y)\n",
    "\n",
    "    # Modell definieren\n",
    "    class MLP(nn.Module):\n",
    "        def __init__(self, input_size):\n",
    "            super().__init__()\n",
    "            n_neurons = 20\n",
    "            self.layers = nn.Sequential(\n",
    "                nn.Linear(input_size, n_neurons),\n",
    "                nn.ReLU(),\n",
    "                nn.Linear(n_neurons, n_neurons),\n",
    "                nn.ReLU(),\n",
    "                nn.Linear(n_neurons, n_neurons),\n",
    "                nn.ReLU(),\n",
    "                nn.Linear(n_neurons, output_size)\n",
    "            )\n",
    "\n",
    "        def forward(self, x):\n",
    "            x = x - feature_means\n",
    "            out = self.layers(x)\n",
    "            return out\n",
    "\n",
    "    model = MLP(input_size)\n",
    "\n",
    "    # loss and optimizer\n",
    "    # checkout: https://pytorch.org/docs/stable/nn.html#torch.nn.BCEWithLogitsLoss\n",
    "    criterion = nn.BCEWithLogitsLoss()  # sigmoid + binary cross entropy\n",
    "\n",
    "    # optimizer\n",
    "    # Dokumentation: https://pytorch.org/docs/stable/optim.html#torch.optim.Adam\n",
    "    optimizer = torch.optim.Adam(model.parameters(), lr=learning_rate)\n",
    "    # Alternative zu Adam\n",
    "    # Dokumentation: https://pytorch.org/docs/stable/optim.html#torch.optim.SGD\n",
    "    # momentum = 0.9  # Wert zwischen 0. und 1.\n",
    "    # optimizer = torch.optim.SGD(model.parameters(), lr=learning_rate, momentum=momentum)\n",
    "\n",
    "    # trainieren des Modells\n",
    "    for e in range(n_steps):\n",
    "        # forward pass\n",
    "        outputs = model.forward(X_train)[:, 0]  # Xw (linear layer)\n",
    "        loss = criterion(outputs, y_train)  # sigmoid and cross-entropy loss\n",
    "\n",
    "        # backward pass (automatically computes gradients)\n",
    "        optimizer.zero_grad()  # reset gradients (torch accumulates them)\n",
    "        loss.backward()  # computes gradients\n",
    "\n",
    "        # Optimierungsschritt durchfuehren\n",
    "        optimizer.step()\n",
    "\n",
    "        # berechne Trainings-Accuracy\n",
    "        outputs = model.forward(X_train)[:, 0]\n",
    "        pred_y = outputs > 0\n",
    "        is_correct = torch.eq(pred_y, y_train.byte()).float()\n",
    "        accuracy_train = torch.mean(is_correct).item()\n",
    "\n",
    "        # berechne Test-Accuracy\n",
    "        outputs = model.forward(X_test)[:, 0]\n",
    "        pred_y = outputs > 0\n",
    "        is_correct = torch.eq(pred_y, y_test.byte()).float()\n",
    "        accuracy_test = torch.mean(is_correct).item()\n",
    "\n",
    "    print(f'Epoch {e}, Loss: {loss:.4f}, Acc train: {accuracy_train:.2f},' \\\n",
    "          f'Acc test: {accuracy_test:.2f}')\n",
    "    return model"
   ]
  },
  {
   "cell_type": "code",
   "execution_count": null,
   "metadata": {
    "id": "pOrfm--QjIUu",
    "outputId": "49432fc7-7a70-4caa-d85f-59956cc0252c"
   },
   "outputs": [
    {
     "name": "stdout",
     "output_type": "stream",
     "text": [
      "Epoch 1999, Loss: 0.0000, Acc train: 1.00,Acc test: 0.41\n"
     ]
    }
   ],
   "source": [
    "# nicht für die Lösung im KI-Kurs notwendig\n",
    "\n",
    "#Führe die Funktion train_overfitting aus und schau dir die Werte deines NNs an.\n",
    "#Evaluation: Wie gut performt das NN auf den Testdaten?\n",
    "#Spricht man hier überhaupt schon von Overfitting? Recherchiere!\n",
    "optimized_model_overfitting = train(D)"
   ]
  },
  {
   "cell_type": "markdown",
   "metadata": {
    "id": "TLVkptRvjIUy"
   },
   "source": [
    "---"
   ]
  },
  {
   "cell_type": "markdown",
   "metadata": {
    "id": "8DBjfTIRjIUy"
   },
   "source": [
    "## Teste Dein Wissen! "
   ]
  },
  {
   "cell_type": "markdown",
   "metadata": {
    "id": "9DiBAsIwjIU2"
   },
   "source": [
    "Nun hast du einiges über die Methoden des maschinellen Lernens erfahren. In der letzten Aufgabe sollst du ein neuronales Netz entwickeln, welches die Hunde als krank oder gesund klassifiziert. **Achtung**: Behalte dabei immer auch Over- und Underfitting im Auge! Es gibt bei dieser Aufgabe **nicht nur eine Lösung**, sondern viele verschiedene Lösungen, die zum Ziel führen. Wir stellen dir eine dieser Lösungen vor (Abschnitt 10/11). Dies ist die MUSTERLÖSUNG! Die Coding-Konsole im KI-Kurs enthält weitere Informationen zu Funktionen, Argumenten oder Erklärungen zum Ergebnis."
   ]
  },
  {
   "cell_type": "code",
   "execution_count": null,
   "metadata": {
    "id": "qsIuwmeajIU2"
   },
   "outputs": [],
   "source": [
    "import torch\n",
    "import numpy as np\n",
    "import torch.nn as nn\n",
    "\n",
    "\n",
    "def train(D):\n",
    "\n",
    "    train, test = D[:200], D[200:]  # Die Auswertung der Aufgabe basiert auf diesem Split\n",
    "\n",
    "    # Hyper-parameter\n",
    "    n_steps = 2000\n",
    "    input_size = 13\n",
    "    output_size = 1\n",
    "    learning_rate = 0.01\n",
    "\n",
    "    # Trainings-Daten vorbereiten\n",
    "    X = train[:, :-1].astype(np.float32)\n",
    "    y = train[:, -1].astype(np.float32)\n",
    "    X_train = torch.from_numpy(X)\n",
    "    y_train = torch.from_numpy(y)\n",
    "    feature_means = torch.mean(X_train, dim=0)\n",
    "\n",
    "    # Test-Daten vorbereiten\n",
    "    X = test[:, :-1].astype(np.float32)\n",
    "    y = test[:, -1].astype(np.float32)\n",
    "    X_test = torch.from_numpy(X)\n",
    "    y_test = torch.from_numpy(y)\n",
    "\n",
    "    # Modell definieren\n",
    "    class MLP(nn.Module):\n",
    "        def __init__(self, input_size):\n",
    "            super().__init__()\n",
    "            n_neurons = 20\n",
    "            self.layers = nn.Sequential(\n",
    "                nn.Linear(input_size, output_size)\n",
    "            )\n",
    "\n",
    "        def forward(self, x):\n",
    "            x = x - feature_means\n",
    "            out = self.layers(x)\n",
    "            return out\n",
    "\n",
    "    model = MLP(input_size)\n",
    "\n",
    "    # loss and optimizer\n",
    "    # checkout: https://pytorch.org/docs/stable/nn.html#torch.nn.BCEWithLogitsLoss\n",
    "    criterion = nn.BCEWithLogitsLoss()  # sigmoid + binary cross entropy\n",
    "\n",
    "    # optimizer\n",
    "    # Dokumentation: https://pytorch.org/docs/stable/optim.html#torch.optim.Adam\n",
    "    optimizer = torch.optim.Adam(model.parameters(), lr=learning_rate)\n",
    "    # Alternative zu Adam\n",
    "    # Dokumentation: https://pytorch.org/docs/stable/optim.html#torch.optim.SGD\n",
    "    # momentum = 0.9  # Wert zwischen 0. und 1.\n",
    "    # optimizer = torch.optim.SGD(model.parameters(), lr=learning_rate, momentum=momentum)\n",
    "\n",
    "    # trainieren des Modells\n",
    "    for e in range(n_steps):\n",
    "        # forward pass\n",
    "        outputs = model.forward(X_train)[:, 0]  # Xw (linear layer)\n",
    "        loss = criterion(outputs, y_train)  # sigmoid and cross-entropy loss\n",
    "\n",
    "        # backward pass (automatically computes gradients)\n",
    "        optimizer.zero_grad()  # reset gradients (torch accumulates them)\n",
    "        loss.backward()  # computes gradients\n",
    "\n",
    "        # Optimierungsschritt durchfuehren\n",
    "        optimizer.step()\n",
    "\n",
    "        # berechne Trainings-Accuracy\n",
    "        outputs = model.forward(X_train)[:, 0]\n",
    "        pred_y = outputs > 0\n",
    "        is_correct = torch.eq(pred_y, y_train.byte()).float()\n",
    "        accuracy_train = torch.mean(is_correct).item()\n",
    "\n",
    "        # berechne Test-Accuracy\n",
    "        outputs = model.forward(X_test)[:, 0]\n",
    "        pred_y = outputs > 0\n",
    "        is_correct = torch.eq(pred_y, y_test.byte()).float()\n",
    "        accuracy_test = torch.mean(is_correct).item()\n",
    "\n",
    "    print(f'Epoch {e}, Loss: {loss:.4f}, Acc train: {accuracy_train:.2f},' \\\n",
    "          f'Acc test: {accuracy_test:.2f}')\n",
    "    return model"
   ]
  },
  {
   "cell_type": "code",
   "execution_count": null,
   "metadata": {
    "id": "Lbpa9MjkjIU7"
   },
   "outputs": [],
   "source": [
    "#Führe die Funktion train aus und schau dir die Werte deines NNs an.\n",
    "#Evaluation: Wie gut performt das NN auf den Testdaten?\n",
    "optimized_model_best = train(D)"
   ]
  },
  {
   "cell_type": "markdown",
   "metadata": {
    "id": "WUJJpCjCjIVA"
   },
   "source": [
    "---"
   ]
  },
  {
   "cell_type": "markdown",
   "metadata": {
    "id": "0j7VLzYjjIVC"
   },
   "source": [
    "Hier können wir sehen,\n",
    "dass wir für dieses Modell eine Trainingsgenauigkeit von 87% und eine Testgenauigkeit von 73% haben.\n",
    "Hier könnte man schon leichtes Overfitting vermuten, aber genauso gut kann man noch sagen, dass dies noch im Rahmen ist und das Modell recht gut generalisiert.\n",
    "\n",
    "Nichtsdestotrotz können wir uns noch ein paar weitere Beispiele von Under- sowie Overfitting ansehen.\n",
    "\n",
    "Da die Funktion `train` leider nur einen Datensatz übergeben bekommt und das Modell innerhalb der Funktion definiert wird, erstellen wir uns nun zwei weitere Funktionen `train_overfit` sowie `train_underfit`, welche ein entsprechend über- sowie unterangepasstes Modell produzieren."
   ]
  },
  {
   "cell_type": "markdown",
   "metadata": {
    "id": "XMx2_fu1jIVD"
   },
   "source": [
    "## EXKURS: Over- & Underfitting "
   ]
  },
  {
   "cell_type": "markdown",
   "metadata": {
    "id": "hcTx05EijIVE"
   },
   "source": [
    "Die folgenden Beispiele sind nicht mehr für die Lösung der Aufgaben im KI Kurs notwendig. <br> Du kannst diesen Abschnitt auch überspringen und weiter unten bei **\"du hast es geschafft\"**\" fortfahren\". <br> Zum besseren Verständnis von Over- und Underfitting wollten wir dir die Infos jedoch nicht vorenthalten! \n"
   ]
  },
  {
   "cell_type": "markdown",
   "metadata": {
    "id": "8gKle9MqjIVG"
   },
   "source": [
    "### Overfitting"
   ]
  },
  {
   "cell_type": "markdown",
   "metadata": {
    "id": "Z-LaFHwmjIVH"
   },
   "source": [
    "Ok, wir wollen nun also ein überangepasstes Modell erzeugen.\n",
    "Schauen wir uns doch noch einmal die `train`-Funktion an und überlegen, welche Parameter wir wie abändern können, um Overfitting zu erzeugen. Überlege an dieser Stelle gerne kurz selbst, bevor du weiterliest.\n",
    "\n",
    "Wir haben ein paar Optionen.\n",
    "1. Wir können das Modell länger trainieren, also `n_steps` erhöhen.\n",
    "2. Wir können das Modell komplexer gestalten, beispielsweise statt nur einer `nn.Linear`-Schicht können wir fünf verwenden.\n",
    "\n",
    "Das probieren wir doch gleich mal aus!\n",
    "Da unser Modell nun mehr Parameter hat und wir auch mehr Trainingsiterationen durchführen, macht es Sinn, die Lernrate ein wenig herunterzuschrauben. Damit wird das Modell umso überangepasster, weil wir feinere Änderungen durchführen, als wenn wir eine große Lernrate verwenden würden.\n",
    "\n",
    "Unsere Änderungen (vorher -> nachher) sind also:\n",
    "- `n_steps`: 2000 -> 20000\n",
    "- Schichten: 1 -> 5\n",
    "- `learning_rate`: 0.01 -> 0.003\n",
    "\n",
    "Probieren wir es doch einmal aus!"
   ]
  },
  {
   "cell_type": "code",
   "execution_count": null,
   "metadata": {
    "id": "DHS-ZoVIjIVJ"
   },
   "outputs": [],
   "source": [
    "def train_overfit(D):\n",
    "\n",
    "    train, test = D[:200], D[200:]  # Die Auswertung der Aufgabe basiert auf diesem Split\n",
    "\n",
    "    # Hyper-parameter\n",
    "    n_steps = 20000 # <--------------- Anzahl Trainingsiterationen erhöht\n",
    "    input_size = 13\n",
    "    output_size = 1\n",
    "    learning_rate = 0.003 # <--------------- Lernrate verringert\n",
    "\n",
    "    # Trainings-Daten vorbereiten\n",
    "    X = train[:, :-1].astype(np.float32)\n",
    "    y = train[:, -1].astype(np.float32)\n",
    "    X_train = torch.from_numpy(X)\n",
    "    y_train = torch.from_numpy(y)\n",
    "    feature_means = torch.mean(X_train, dim=0)\n",
    "\n",
    "    # Test-Daten vorbereiten\n",
    "    X = test[:, :-1].astype(np.float32)\n",
    "    y = test[:, -1].astype(np.float32)\n",
    "    X_test = torch.from_numpy(X)\n",
    "    y_test = torch.from_numpy(y)\n",
    "\n",
    "    # Modell definieren\n",
    "    class MLP(nn.Module):\n",
    "        def __init__(self, input_size):\n",
    "            super().__init__()\n",
    "            n_neurons = 20\n",
    "            self.layers = nn.Sequential( # <--------------- mehr Schichten hinzugefügt\n",
    "                nn.Linear(input_size, output_size),\n",
    "                nn.ReLU(),\n",
    "                nn.Linear(output_size, output_size*2), # hier können wir uns zu Testzwecken\n",
    "                                                       # beliebige Werte für die neuen Schichten ausdenken\n",
    "                                                       # beispielsweise also output_size*2 bzw. *3\n",
    "                nn.ReLU(),\n",
    "                nn.Linear(output_size*2, output_size*3),\n",
    "                nn.ReLU(),\n",
    "                nn.Linear(output_size*3, output_size*3),\n",
    "                nn.ReLU(),\n",
    "                nn.Linear(output_size*3, output_size)\n",
    "            )\n",
    "\n",
    "        def forward(self, x):\n",
    "            x = x - feature_means\n",
    "            out = self.layers(x)\n",
    "            return out\n",
    "\n",
    "    model = MLP(input_size)\n",
    "\n",
    "    # loss and optimizer\n",
    "    # checkout: https://pytorch.org/docs/stable/nn.html#torch.nn.BCEWithLogitsLoss\n",
    "    criterion = nn.BCEWithLogitsLoss()  # sigmoid + binary cross entropy\n",
    "\n",
    "    # optimizer\n",
    "    # Dokumentation: https://pytorch.org/docs/stable/optim.html#torch.optim.Adam\n",
    "    optimizer = torch.optim.Adam(model.parameters(), lr=learning_rate)\n",
    "    # Alternative zu Adam\n",
    "    # Dokumentation: https://pytorch.org/docs/stable/optim.html#torch.optim.SGD\n",
    "    # momentum = 0.9  # Wert zwischen 0. und 1.\n",
    "    # optimizer = torch.optim.SGD(model.parameters(), lr=learning_rate, momentum=momentum)\n",
    "\n",
    "    # trainieren des Modells\n",
    "    for e in range(n_steps):\n",
    "        # forward pass\n",
    "        outputs = model.forward(X_train)[:, 0]  # Xw (linear layer)\n",
    "        loss = criterion(outputs, y_train)  # sigmoid and cross-entropy loss\n",
    "\n",
    "        # backward pass (automatically computes gradients)\n",
    "        optimizer.zero_grad()  # reset gradients (torch accumulates them)\n",
    "        loss.backward()  # computes gradients\n",
    "\n",
    "        # Optimierungsschritt durchfuehren\n",
    "        optimizer.step()\n",
    "\n",
    "        # berechne Trainings-Accuracy\n",
    "        outputs = model.forward(X_train)[:, 0]\n",
    "        pred_y = outputs > 0\n",
    "        is_correct = torch.eq(pred_y, y_train.byte()).float()\n",
    "        accuracy_train = torch.mean(is_correct).item()\n",
    "\n",
    "        # berechne Test-Accuracy\n",
    "        outputs = model.forward(X_test)[:, 0]\n",
    "        pred_y = outputs > 0\n",
    "        is_correct = torch.eq(pred_y, y_test.byte()).float()\n",
    "        accuracy_test = torch.mean(is_correct).item()\n",
    "\n",
    "    print(f'Epoch {e}, Loss: {loss:.4f}, Acc train: {accuracy_train:.2f},' \\\n",
    "          f'Acc test: {accuracy_test:.2f}')\n",
    "    return model"
   ]
  },
  {
   "cell_type": "code",
   "execution_count": null,
   "metadata": {
    "id": "od7cUCNqjIVM",
    "outputId": "3338b3ac-0fbd-4d09-943a-de66e148ab0c"
   },
   "outputs": [
    {
     "name": "stdout",
     "output_type": "stream",
     "text": [
      "Epoch 19999, Loss: 0.2897, Acc train: 0.92,Acc test: 0.69\n"
     ]
    }
   ],
   "source": [
    "overfit_model = train_overfit(D)"
   ]
  },
  {
   "cell_type": "markdown",
   "metadata": {
    "id": "J5Hm7lRejIVP"
   },
   "source": [
    "Hier kann man nun eindeutig das Overfitting sehen, da die Trainingsgenauigkeit deutlich über der Testgenauigkeit liegt.\n",
    "Die Trainingsgenauigkeit liegt bei 0.92, während hingegen die Testgenauigkeit bei 0.69 liegt.\n",
    "Das ist ein stolzer Unterschied von 33%!"
   ]
  },
  {
   "cell_type": "markdown",
   "metadata": {
    "id": "tpSsPHx2jIVQ"
   },
   "source": [
    "### Underfitting"
   ]
  },
  {
   "cell_type": "markdown",
   "metadata": {
    "id": "PxJOrkVfjIVS"
   },
   "source": [
    "Nun wollen wir auch die andere Seite der Medaille betrachten und\n",
    "ein unterangepasstes Modell erzeugen.\n",
    "Welche Parameter können wir hierfür abändern?\n",
    "\n",
    "Wir können genau das Gegenteil der vorherigen Änderungen durchführen!\n",
    "Wenn die Erhöhung der Anzahl an Iterationen unser Netz stärker anpasst,\n",
    "so sollte die Verringerung der Anzahl an Iterationen unser Netz weniger stark anpassen.\n",
    "\n",
    "Bei der Lernrate sieht es ein wenig anders aus.\n",
    "Wenn wir unsere Lernrate erhöhen, würde dies die Verringerung der Anzahl an Trainingsiterationen ausgleichen.\n",
    "Hier erhalten wir also einen besseren Effekt, wenn wir sowohl die Lernrate als auch die Anzahl an Trainingsiterationen gering halten.\n",
    "\n",
    "Mit anderen Worten: Unser Modell trainiert nur für wenige Epochen und in jeder Epoche lernt es nur ein kleines bisschen dazu!\n",
    "\n",
    "Unser Modell können wir nicht noch simpler gestalten, da eine einzige Schicht bereits das Minimum ist,\n",
    "was wir für ein funktionierendes Modell benötigen.\n",
    "\n",
    "Die Änderungen sind nun also (im Vergleich zur originellen `train`-Funktion):\n",
    "- `n_steps`: 2000 -> 200\n",
    "- `learning_rate`: 0.01 -> 0.0001"
   ]
  },
  {
   "cell_type": "code",
   "execution_count": null,
   "metadata": {
    "id": "YaQIwzPtjIVT"
   },
   "outputs": [],
   "source": [
    "def train_underfit(D):\n",
    "\n",
    "    train, test = D[:200], D[200:]  # Die Auswertung der Aufgabe basiert auf diesem Split\n",
    "\n",
    "    # Hyper-parameter\n",
    "    n_steps = 200 # <--------------- Anzahl Trainingsiterationen verringert\n",
    "    input_size = 13\n",
    "    output_size = 1\n",
    "    learning_rate = 0.0001 # <--------------- Lernrate verringern\n",
    "\n",
    "    # Trainings-Daten vorbereiten\n",
    "    X = train[:, :-1].astype(np.float32)\n",
    "    y = train[:, -1].astype(np.float32)\n",
    "    X_train = torch.from_numpy(X)\n",
    "    y_train = torch.from_numpy(y)\n",
    "    feature_means = torch.mean(X_train, dim=0)\n",
    "\n",
    "    # Test-Daten vorbereiten\n",
    "    X = test[:, :-1].astype(np.float32)\n",
    "    y = test[:, -1].astype(np.float32)\n",
    "    X_test = torch.from_numpy(X)\n",
    "    y_test = torch.from_numpy(y)\n",
    "\n",
    "    # Modell definieren\n",
    "    class MLP(nn.Module):\n",
    "        def __init__(self, input_size):\n",
    "            super().__init__()\n",
    "            self.layers = nn.Sequential(\n",
    "                nn.Linear(input_size, output_size),\n",
    "            )\n",
    "\n",
    "        def forward(self, x):\n",
    "            x = x - feature_means\n",
    "            out = self.layers(x)\n",
    "            #out = out*np.nan  ---------------- muss weg\n",
    "            return out\n",
    "\n",
    "    model = MLP(input_size)\n",
    "\n",
    "    # loss and optimizer\n",
    "    # checkout: https://pytorch.org/docs/stable/nn.html#torch.nn.BCEWithLogitsLoss\n",
    "    criterion = nn.BCEWithLogitsLoss()  # sigmoid + binary cross entropy\n",
    "\n",
    "    # optimizer\n",
    "    # Dokumentation: https://pytorch.org/docs/stable/optim.html#torch.optim.Adam\n",
    "    optimizer = torch.optim.Adam(model.parameters(), lr=learning_rate)\n",
    "    # Alternative zu Adam\n",
    "    # Dokumentation: https://pytorch.org/docs/stable/optim.html#torch.optim.SGD\n",
    "    # momentum = 0.9  # Wert zwischen 0. und 1.\n",
    "    # optimizer = torch.optim.SGD(model.parameters(), lr=learning_rate, momentum=momentum)\n",
    "\n",
    "    # trainieren des Modells\n",
    "    for e in range(n_steps):\n",
    "        # forward pass\n",
    "        outputs = model.forward(X_train)[:, 0]  # Xw (linear layer)\n",
    "        loss = criterion(outputs, y_train)  # sigmoid and cross-entropy loss\n",
    "\n",
    "        # backward pass (automatically computes gradients)\n",
    "        optimizer.zero_grad()  # reset gradients (torch accumulates them)\n",
    "        loss.backward()  # computes gradients\n",
    "\n",
    "        # Optimierungsschritt durchfuehren\n",
    "        optimizer.step()\n",
    "\n",
    "        # berechne Trainings-Accuracy\n",
    "        outputs = model.forward(X_train)[:, 0]\n",
    "        pred_y = outputs > 0\n",
    "        is_correct = torch.eq(pred_y, y_train.byte()).float()\n",
    "        accuracy_train = torch.mean(is_correct).item()\n",
    "\n",
    "        # berechne Test-Accuracy\n",
    "        outputs = model.forward(X_test)[:, 0]\n",
    "        pred_y = outputs > 0\n",
    "        is_correct = torch.eq(pred_y, y_test.byte()).float()\n",
    "        accuracy_test = torch.mean(is_correct).item()\n",
    "\n",
    "    print(f'Epoch {e}, Loss: {loss:.4f}, Acc train: {accuracy_train:.2f},' \\\n",
    "          f'Acc test: {accuracy_test:.2f}')\n",
    "    return model"
   ]
  },
  {
   "cell_type": "code",
   "execution_count": null,
   "metadata": {
    "id": "HB8aQecJjIVX",
    "outputId": "cecec78a-a8c0-40ad-e9ae-92ffaa6d639a"
   },
   "outputs": [
    {
     "name": "stdout",
     "output_type": "stream",
     "text": [
      "Epoch 199, Loss: 1.8547, Acc train: 0.52,Acc test: 0.27\n"
     ]
    }
   ],
   "source": [
    "underfit_model = train_underfit(D)"
   ]
  },
  {
   "cell_type": "markdown",
   "metadata": {
    "id": "k0Lug9scjIVZ"
   },
   "source": [
    "Hier sieht man nun eindeutig, dass sowohl die Trainings- als auch die Testgenauigkeit ziemlich gering sind\n",
    "Eine Genauigkeit von 50% wäre bei unserem Datensatz mit binären Labeln (entweder 0 oder 1) genauso gut wie raten, also macht unser Modell gerade keine allzu gute Vorhersagen.\n",
    "\n",
    "Wenn ihr den Code oben einige Male ausführt, werdet ihr merken, dass die Testgenauigkeit ein gutes Stück schwankt.\n",
    "Dies liegt daran, dass unser Modell nicht wirklich etwas lernt und damit recht \"unsinnige\" Vorhersagen macht.\n",
    "Manchmal sind diese sehr gut, manchmal sehr schlecht. Unser Netz ist damit also nicht nur underfit, sondern auch noch overfit!"
   ]
  },
  {
   "cell_type": "markdown",
   "metadata": {
    "id": "hqZp58MrjIVi"
   },
   "source": [
    "**Grafische Analyse von Over- & Underfitting**\n",
    "    \n",
    "Um Over- und Underfitting noch besser zu visualisieren, könnt ihr euch den grafischen Verlauf der Genauigkeiten / des Losses zurückgeben lassen und diesen plotten. Hierfür legen wir zwei neue Variablen `train_acc_hist` und `test_acc_hist` die jeweils den Verlauf der Trainings- sowie Testgenauigkeit beinhalten werden. Nach jeder Epoche fügen wir die aktuellen Genauigkeiten in diese beiden Listen ein. Am Ende lassen wir uns diese Listen ausgeben."
   ]
  },
  {
   "cell_type": "code",
   "execution_count": null,
   "metadata": {
    "id": "jCfINSacjIVj"
   },
   "outputs": [],
   "source": [
    "def train_overfit_with_hist(D):\n",
    "\n",
    "    train, test = D[:200], D[200:]  # Die Auswertung der Aufgabe basiert auf diesem Split\n",
    "\n",
    "    train_acc_hist = [] # --------------------------------------------------------- NEU\n",
    "    test_acc_hist = [] # --------------------------------------------------------- NEU\n",
    "    \n",
    "    # Hyper-parameter\n",
    "    n_steps = 20000\n",
    "    input_size = 13\n",
    "    output_size = 1\n",
    "    learning_rate = 0.003\n",
    "\n",
    "    # Trainings-Daten vorbereiten\n",
    "    X = train[:, :-1].astype(np.float32)\n",
    "    y = train[:, -1].astype(np.float32)\n",
    "    X_train = torch.from_numpy(X)\n",
    "    y_train = torch.from_numpy(y)\n",
    "    feature_means = torch.mean(X_train, dim=0)\n",
    "\n",
    "    # Test-Daten vorbereiten\n",
    "    X = test[:, :-1].astype(np.float32)\n",
    "    y = test[:, -1].astype(np.float32)\n",
    "    X_test = torch.from_numpy(X)\n",
    "    y_test = torch.from_numpy(y)\n",
    "\n",
    "    # Modell definieren\n",
    "    class MLP(nn.Module):\n",
    "        def __init__(self, input_size):\n",
    "            super().__init__()\n",
    "            n_neurons = 20\n",
    "            self.layers = nn.Sequential(\n",
    "                nn.Linear(input_size, output_size),\n",
    "                nn.ReLU(),\n",
    "                nn.Linear(output_size, output_size*2),\n",
    "                nn.ReLU(),\n",
    "                nn.Linear(output_size*2, output_size*3),\n",
    "                nn.ReLU(),\n",
    "                nn.Linear(output_size*3, output_size*3),\n",
    "                nn.ReLU(),\n",
    "                nn.Linear(output_size*3, output_size)\n",
    "            )\n",
    "\n",
    "        def forward(self, x):\n",
    "            x = x - feature_means\n",
    "            out = self.layers(x)\n",
    "            return out\n",
    "\n",
    "    model = MLP(input_size)\n",
    "\n",
    "    # loss and optimizer\n",
    "    # checkout: https://pytorch.org/docs/stable/nn.html#torch.nn.BCEWithLogitsLoss\n",
    "    criterion = nn.BCEWithLogitsLoss()  # sigmoid + binary cross entropy\n",
    "\n",
    "    # optimizer\n",
    "    # Dokumentation: https://pytorch.org/docs/stable/optim.html#torch.optim.Adam\n",
    "    optimizer = torch.optim.Adam(model.parameters(), lr=learning_rate)\n",
    "    # Alternative zu Adam\n",
    "    # Dokumentation: https://pytorch.org/docs/stable/optim.html#torch.optim.SGD\n",
    "    # momentum = 0.9  # Wert zwischen 0. und 1.\n",
    "    # optimizer = torch.optim.SGD(model.parameters(), lr=learning_rate, momentum=momentum)\n",
    "\n",
    "    # trainieren des Modells\n",
    "    for e in range(n_steps):\n",
    "        # forward pass\n",
    "        outputs = model.forward(X_train)[:, 0]  # Xw (linear layer)\n",
    "        loss = criterion(outputs, y_train)  # sigmoid and cross-entropy loss\n",
    "\n",
    "        # backward pass (automatically computes gradients)\n",
    "        optimizer.zero_grad()  # reset gradients (torch accumulates them)\n",
    "        loss.backward()  # computes gradients\n",
    "\n",
    "        # Optimierungsschritt durchfuehren\n",
    "        optimizer.step()\n",
    "\n",
    "        # berechne Trainings-Accuracy\n",
    "        outputs = model.forward(X_train)[:, 0]\n",
    "        pred_y = outputs > 0\n",
    "        is_correct = torch.eq(pred_y, y_train.byte()).float()\n",
    "        accuracy_train = torch.mean(is_correct).item()\n",
    "        \n",
    "        train_acc_hist.append(accuracy_train) # --------------------------------------------------------- NEU\n",
    "\n",
    "        # berechne Test-Accuracy\n",
    "        outputs = model.forward(X_test)[:, 0]\n",
    "        pred_y = outputs > 0\n",
    "        is_correct = torch.eq(pred_y, y_test.byte()).float()\n",
    "        accuracy_test = torch.mean(is_correct).item()\n",
    "        \n",
    "        test_acc_hist.append(accuracy_test) # --------------------------------------------------------- NEU\n",
    "\n",
    "    print(f'Epoch {e}, Loss: {loss:.4f}, Acc train: {accuracy_train:.2f},' \\\n",
    "          f'Acc test: {accuracy_test:.2f}')\n",
    "    return model, train_acc_hist, test_acc_hist"
   ]
  },
  {
   "cell_type": "code",
   "execution_count": null,
   "metadata": {
    "id": "BQpv77YbjIVp",
    "outputId": "6d6c505c-c771-467c-ca2e-a8e452037a34"
   },
   "outputs": [
    {
     "name": "stdout",
     "output_type": "stream",
     "text": [
      "Epoch 19999, Loss: 0.3478, Acc train: 0.85,Acc test: 0.54\n"
     ]
    }
   ],
   "source": [
    "overfit_model, train_acc_hist_overfit, test_acc_hist_overfit = train_overfit_with_hist(D)"
   ]
  },
  {
   "cell_type": "markdown",
   "metadata": {
    "id": "ZPOFPe4PjIVs"
   },
   "source": [
    "Hier haben wir also ein überangepasstes Modell erzeugt.\n",
    "Visualisieren wir doch einmal den Verlauf der Trainings- sowie Testgenauigkeiten."
   ]
  },
  {
   "cell_type": "code",
   "execution_count": null,
   "metadata": {
    "id": "q0auD9tTjIVu"
   },
   "outputs": [],
   "source": [
    "# matplotlib ist eine Bibliothek, die das Erstellen von Visualisierungen ermöglicht\n",
    "import matplotlib.pyplot as plt"
   ]
  },
  {
   "cell_type": "code",
   "execution_count": null,
   "metadata": {
    "id": "TkDGRG2ejIVw",
    "outputId": "f3b779cb-9ad9-41c1-f5e6-453e93bb55d3"
   },
   "outputs": [
    {
     "data": {
      "image/png": "[encoded data removed]",
      "text/plain": [
       "<Figure size 432x288 with 1 Axes>"
      ]
     },
     "metadata": {
      "needs_background": "light"
     },
     "output_type": "display_data"
    }
   ],
   "source": [
    "plt.plot(np.arange(20000), train_acc_hist_overfit, label=\"train\") #20000 ist die Anzahl an Trainingsiterationen\n",
    "plt.plot(np.arange(20000), test_acc_hist_overfit, label=\"test\")\n",
    "plt.show()"
   ]
  },
  {
   "cell_type": "markdown",
   "metadata": {
    "id": "us6XdEIQjIVy"
   },
   "source": [
    "Aha! Hier sehen wir also, wie die Trainingsgenauigkeit in die Höhe schießt, die Testgenauigkeit aber auf einem deutlich tieferen Wert sitzen bleibt und nicht weiter nach oben geht.\n",
    "\n",
    "Dies war jetzt ein Beispiel, an welchem man Overfitting erkennen kann.\n",
    "Die Kurven für ein unterangepasstes, sowie ein normales Modell könnten wir hier auch noch plotten,\n",
    "aber diese sehen nicht ganz so spektakulär aus und sind auch nicht ganz so wichtig.\n",
    "Gerne kannst du einmal selbst versuchen, diese Kurven zu plotten!"
   ]
  },
  {
   "cell_type": "markdown",
   "metadata": {
    "id": "i1SaYQZ2jIVz"
   },
   "source": [
    "---\n"
   ]
  },
  {
   "cell_type": "markdown",
   "metadata": {
    "id": "oPizd-eSjIV2"
   },
   "source": [
    "### Du hast es geschafft! 🥳 "
   ]
  },
  {
   "cell_type": "markdown",
   "metadata": {
    "id": "SHdIWXp5jIV3"
   },
   "source": [
    "Du kannst wirklich stolz auf dich sein! Es ist sicherlich einiges an Zeit und Hirnschmalz in dieses Tutorial geflossen. Vielleicht hat dich dieses Tutorial ja dazu inspiriert eine eigene Idee mit den Methoden der KI anzugehen. Reiche dein Projekt jährlich beim Bundeswettbewerb KI ein und gewinne tolle Preise. "
   ]
  },
  {
   "cell_type": "markdown",
   "metadata": {
    "id": "QF0rqGJTjIV4"
   },
   "source": [
    "Wie geht es jetzt weiter? Es warten weitere spannende Kurselemente auf euch:\n",
    "- KI & Gesselschaft, spannende Artikel & Quizfragen\n",
    "- Knackt die Überflieger Aufgaben des Python Grundkurses\n",
    "- Übt im Aufgabenpool\n",
    "- Macht das nächste Tutorial zu CNNs - das Recycling Tutorial mit Boris\n",
    "\n",
    "Es gibt also viel zu tun!\n",
    "\n",
    "Unter dem Reiter --> Zertifikat im Hauptmenü kannst du dir deine Leistungen in diesem Kurs bescheinigen lassen.\n",
    "\n",
    "Wir wünschen dir viel Spaß beim Lernen 😊\n",
    "Euer BWKI Team"
   ]
  },
  {
   "cell_type": "code",
   "execution_count": null,
   "metadata": {
    "id": "V7oZaBGSjIV5"
   },
   "outputs": [],
   "source": []
  }
 ],
 "metadata": {
  "colab": {
   "collapsed_sections": [],
   "name": "Musterlosung_Kapitel_5.ipynb",
   "provenance": []
  },
  "kernelspec": {
   "display_name": "Python 3 (ipykernel)",
   "language": "python",
   "name": "python3"
  },
  "language_info": {
   "codemirror_mode": {
    "name": "ipython",
    "version": 3
   },
   "file_extension": ".py",
   "mimetype": "text/x-python",
   "name": "python",
   "nbconvert_exporter": "python",
   "pygments_lexer": "ipython3",
   "version": "3.11.6"
  }
 },
 "nbformat": 4,
 "nbformat_minor": 4
}
