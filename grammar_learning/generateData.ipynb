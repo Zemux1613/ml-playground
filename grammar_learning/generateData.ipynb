{
 "cells": [
  {
   "cell_type": "code",
   "execution_count": 9,
   "id": "8e55096f-36ae-437c-8a88-67881411847f",
   "metadata": {},
   "outputs": [],
   "source": [
    "import nltk\n",
    "from nltk import CFG, Nonterminal\n",
    "from nltk.parse.generate import generate\n",
    "import json"
   ]
  },
  {
   "cell_type": "code",
   "execution_count": 4,
   "id": "5180a844-371c-429d-9fb9-1801580e0d9b",
   "metadata": {},
   "outputs": [],
   "source": [
    "# Define a simple CFG grammar\n",
    "grammar = CFG.fromstring(\"\"\"\n",
    "   s -> 'a' Z2 | 'b' trash\n",
    "   Z2 -> 'b' Z3 | 'a' trash\n",
    "   Z3 -> 'b' Z3 | 'a' Z5\n",
    "   Z5 -> '' | 'a' trash | 'b' trash\n",
    "   trash -> 'a' trash | 'b' trash\n",
    "\"\"\")\n",
    "\n",
    "komp_grammar = CFG.fromstring(\"\"\"\n",
    "    s -> '' | 'a' Z2 | 'b' trash\n",
    "    Z2 -> '' | 'b' Z3 | 'a' trash\n",
    "    Z3 -> '' | 'b' Z3 | 'a' Z5\n",
    "    Z5 -> 'a' trash | 'b' trash\n",
    "    trash -> '' | 'a' trash | 'b' trash\n",
    "\"\"\")"
   ]
  },
  {
   "cell_type": "code",
   "execution_count": 5,
   "id": "484c8849-eab7-4345-b817-918718f608d9",
   "metadata": {},
   "outputs": [],
   "source": [
    "positiv = list(generate(grammar, depth=25))"
   ]
  },
  {
   "cell_type": "code",
   "execution_count": 11,
   "id": "e7a18c3c-a927-45e4-9dbf-ffcd7c219d2e",
   "metadata": {},
   "outputs": [],
   "source": [
    "negativ = list(generate(komp_grammar, depth=10))"
   ]
  },
  {
   "cell_type": "code",
   "execution_count": 12,
   "id": "6e377bd3-8446-48fa-bd48-a19ba9a64e79",
   "metadata": {},
   "outputs": [
    {
     "data": {
      "text/plain": [
       "21"
      ]
     },
     "execution_count": 12,
     "metadata": {},
     "output_type": "execute_result"
    }
   ],
   "source": [
    "len(positiv)"
   ]
  },
  {
   "cell_type": "code",
   "execution_count": 13,
   "id": "2717669f-9acc-48bd-adf3-ee134a84bacf",
   "metadata": {},
   "outputs": [
    {
     "data": {
      "text/plain": [
       "505"
      ]
     },
     "execution_count": 13,
     "metadata": {},
     "output_type": "execute_result"
    }
   ],
   "source": [
    "len(negativ)"
   ]
  },
  {
   "cell_type": "code",
   "execution_count": 14,
   "id": "1acca9be-0f64-41bd-b79c-70535eef2dd5",
   "metadata": {},
   "outputs": [
    {
     "name": "stdout",
     "output_type": "stream",
     "text": [
      "Data saved to data.json\n"
     ]
    }
   ],
   "source": [
    "# Example data (replace this with your own dictionary)\n",
    "data_to_save = {\n",
    "    \"positiv\": positiv,\n",
    "    \"negativ\": negativ\n",
    "}\n",
    "\n",
    "# Specify the file path where you want to save the JSON file\n",
    "file_path = \"data.json\"\n",
    "\n",
    "# Save the data to the JSON file\n",
    "with open(file_path, 'w') as json_file:\n",
    "    json.dump(data_to_save, json_file)\n",
    "\n",
    "print(f'Data saved to {file_path}')"
   ]
  },
  {
   "cell_type": "code",
   "execution_count": null,
   "id": "4f9e860f-a5aa-4591-a947-2d98d21c94c0",
   "metadata": {},
   "outputs": [],
   "source": []
  }
 ],
 "metadata": {
  "kernelspec": {
   "display_name": "Python 3 (ipykernel)",
   "language": "python",
   "name": "python3"
  },
  "language_info": {
   "codemirror_mode": {
    "name": "ipython",
    "version": 3
   },
   "file_extension": ".py",
   "mimetype": "text/x-python",
   "name": "python",
   "nbconvert_exporter": "python",
   "pygments_lexer": "ipython3",
   "version": "3.11.6"
  }
 },
 "nbformat": 4,
 "nbformat_minor": 5
}
